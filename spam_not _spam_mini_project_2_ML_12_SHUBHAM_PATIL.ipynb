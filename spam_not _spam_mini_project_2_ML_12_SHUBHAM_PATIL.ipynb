{
  "nbformat": 4,
  "nbformat_minor": 0,
  "metadata": {
    "accelerator": "GPU",
    "colab": {
      "name": "mini project 2.ipynb",
      "provenance": [],
      "collapsed_sections": [
        "boSP_I7GQgal",
        "rCNXtKbMQgau"
      ]
    },
    "kernelspec": {
      "display_name": "Python 3",
      "language": "python",
      "name": "python3"
    },
    "language_info": {
      "codemirror_mode": {
        "name": "ipython",
        "version": 3
      },
      "file_extension": ".py",
      "mimetype": "text/x-python",
      "name": "python",
      "nbconvert_exporter": "python",
      "pygments_lexer": "ipython3",
      "version": "3.7.6"
    }
  },
  "cells": [
    {
      "cell_type": "markdown",
      "metadata": {
        "id": "Y8Lxps9Fg8PX"
      },
      "source": [
        "# Introduction\n",
        "Email spam, also referred to as junk email or simply spam, is unsolicited messages sent in bulk by email. \n",
        "Email spam has steadily grown since the early 1990s, and by 2014 was estimated to account for around 90% of total email traffic.Most email spam messages are commercial in nature. Whether commercial or not, many are not only annoying as a form of attention theft, but also dangerous because they may contain links that lead to phishing web sites or sites that are hosting malware or include malware as file attachments.\n",
        "              That's why its necessary to filter spam messages/mails to protect user. \n",
        "               In this project we are going to use different classification algorithms to classify emails as spam or not spam. For that we have different features extracted from emails, these features include percentage of words, characters etc.\n",
        "\n"
      ]
    },
    {
      "cell_type": "markdown",
      "metadata": {
        "id": "pH3RO3gCAOWy"
      },
      "source": [
        "### Variables discription"
      ]
    },
    {
      "cell_type": "code",
      "metadata": {
        "id": "rWwJwRqcBn_i"
      },
      "source": [
        "import pandas as pd\n",
        "names = pd.read_csv('/content/names.csv')\n",
        "names.index = [x for x in range(1,58)]"
      ],
      "execution_count": 3,
      "outputs": []
    },
    {
      "cell_type": "code",
      "metadata": {
        "id": "RrdAiWxWKKjb",
        "colab": {
          "base_uri": "https://localhost:8080/",
          "height": 132
        },
        "outputId": "ceecd033-a4e5-4a86-ceaa-e8898c67c18b"
      },
      "source": [
        "names.T"
      ],
      "execution_count": 4,
      "outputs": [
        {
          "output_type": "execute_result",
          "data": {
            "text/html": [
              "<div>\n",
              "<style scoped>\n",
              "    .dataframe tbody tr th:only-of-type {\n",
              "        vertical-align: middle;\n",
              "    }\n",
              "\n",
              "    .dataframe tbody tr th {\n",
              "        vertical-align: top;\n",
              "    }\n",
              "\n",
              "    .dataframe thead th {\n",
              "        text-align: right;\n",
              "    }\n",
              "</style>\n",
              "<table border=\"1\" class=\"dataframe\">\n",
              "  <thead>\n",
              "    <tr style=\"text-align: right;\">\n",
              "      <th></th>\n",
              "      <th>1</th>\n",
              "      <th>2</th>\n",
              "      <th>3</th>\n",
              "      <th>4</th>\n",
              "      <th>5</th>\n",
              "      <th>6</th>\n",
              "      <th>7</th>\n",
              "      <th>8</th>\n",
              "      <th>9</th>\n",
              "      <th>10</th>\n",
              "      <th>11</th>\n",
              "      <th>12</th>\n",
              "      <th>13</th>\n",
              "      <th>14</th>\n",
              "      <th>15</th>\n",
              "      <th>16</th>\n",
              "      <th>17</th>\n",
              "      <th>18</th>\n",
              "      <th>19</th>\n",
              "      <th>20</th>\n",
              "      <th>21</th>\n",
              "      <th>22</th>\n",
              "      <th>23</th>\n",
              "      <th>24</th>\n",
              "      <th>25</th>\n",
              "      <th>26</th>\n",
              "      <th>27</th>\n",
              "      <th>28</th>\n",
              "      <th>29</th>\n",
              "      <th>30</th>\n",
              "      <th>31</th>\n",
              "      <th>32</th>\n",
              "      <th>33</th>\n",
              "      <th>34</th>\n",
              "      <th>35</th>\n",
              "      <th>36</th>\n",
              "      <th>37</th>\n",
              "      <th>38</th>\n",
              "      <th>39</th>\n",
              "      <th>40</th>\n",
              "      <th>41</th>\n",
              "      <th>42</th>\n",
              "      <th>43</th>\n",
              "      <th>44</th>\n",
              "      <th>45</th>\n",
              "      <th>46</th>\n",
              "      <th>47</th>\n",
              "      <th>48</th>\n",
              "      <th>49</th>\n",
              "      <th>50</th>\n",
              "      <th>51</th>\n",
              "      <th>52</th>\n",
              "      <th>53</th>\n",
              "      <th>54</th>\n",
              "      <th>55</th>\n",
              "      <th>56</th>\n",
              "      <th>57</th>\n",
              "    </tr>\n",
              "  </thead>\n",
              "  <tbody>\n",
              "    <tr>\n",
              "      <th>Variables</th>\n",
              "      <td>word_freq_make:</td>\n",
              "      <td>word_freq_address:</td>\n",
              "      <td>word_freq_all:</td>\n",
              "      <td>word_freq_3d:</td>\n",
              "      <td>word_freq_our:</td>\n",
              "      <td>word_freq_over:</td>\n",
              "      <td>word_freq_remove:</td>\n",
              "      <td>word_freq_internet:</td>\n",
              "      <td>word_freq_order:</td>\n",
              "      <td>word_freq_mail:</td>\n",
              "      <td>word_freq_receive:</td>\n",
              "      <td>word_freq_will:</td>\n",
              "      <td>word_freq_people:</td>\n",
              "      <td>word_freq_report:</td>\n",
              "      <td>word_freq_addresses:</td>\n",
              "      <td>word_freq_free:</td>\n",
              "      <td>word_freq_business:</td>\n",
              "      <td>word_freq_email:</td>\n",
              "      <td>word_freq_you:</td>\n",
              "      <td>word_freq_credit:</td>\n",
              "      <td>word_freq_your:</td>\n",
              "      <td>word_freq_font:</td>\n",
              "      <td>word_freq_000:</td>\n",
              "      <td>word_freq_money:</td>\n",
              "      <td>word_freq_hp:</td>\n",
              "      <td>word_freq_hpl:</td>\n",
              "      <td>word_freq_george:</td>\n",
              "      <td>word_freq_650:</td>\n",
              "      <td>word_freq_lab:</td>\n",
              "      <td>word_freq_labs:</td>\n",
              "      <td>word_freq_telnet:</td>\n",
              "      <td>word_freq_857:</td>\n",
              "      <td>word_freq_data:</td>\n",
              "      <td>word_freq_415:</td>\n",
              "      <td>word_freq_85:</td>\n",
              "      <td>word_freq_technology:</td>\n",
              "      <td>word_freq_1999:</td>\n",
              "      <td>word_freq_parts:</td>\n",
              "      <td>word_freq_pm:</td>\n",
              "      <td>word_freq_direct:</td>\n",
              "      <td>word_freq_cs:</td>\n",
              "      <td>word_freq_meeting:</td>\n",
              "      <td>word_freq_original:</td>\n",
              "      <td>word_freq_project:</td>\n",
              "      <td>word_freq_re:</td>\n",
              "      <td>word_freq_edu:</td>\n",
              "      <td>word_freq_table:</td>\n",
              "      <td>word_freq_conference:</td>\n",
              "      <td>char_freq_;:</td>\n",
              "      <td>char_freq_(:</td>\n",
              "      <td>char_freq_[:</td>\n",
              "      <td>char_freq_!:</td>\n",
              "      <td>char_freq_$:</td>\n",
              "      <td>char_freq_#:</td>\n",
              "      <td>capital_run_length_average:</td>\n",
              "      <td>capital_run_length_longest:</td>\n",
              "      <td>capital_run_length_total:</td>\n",
              "    </tr>\n",
              "    <tr>\n",
              "      <th>type</th>\n",
              "      <td>continuous.</td>\n",
              "      <td>continuous.</td>\n",
              "      <td>continuous.</td>\n",
              "      <td>continuous.</td>\n",
              "      <td>continuous.</td>\n",
              "      <td>continuous.</td>\n",
              "      <td>continuous.</td>\n",
              "      <td>continuous.</td>\n",
              "      <td>continuous.</td>\n",
              "      <td>continuous.</td>\n",
              "      <td>continuous.</td>\n",
              "      <td>continuous.</td>\n",
              "      <td>continuous.</td>\n",
              "      <td>continuous.</td>\n",
              "      <td>continuous.</td>\n",
              "      <td>continuous.</td>\n",
              "      <td>continuous.</td>\n",
              "      <td>continuous.</td>\n",
              "      <td>continuous.</td>\n",
              "      <td>continuous.</td>\n",
              "      <td>continuous.</td>\n",
              "      <td>continuous.</td>\n",
              "      <td>continuous.</td>\n",
              "      <td>continuous.</td>\n",
              "      <td>continuous.</td>\n",
              "      <td>continuous.</td>\n",
              "      <td>continuous.</td>\n",
              "      <td>continuous.</td>\n",
              "      <td>continuous.</td>\n",
              "      <td>continuous.</td>\n",
              "      <td>continuous.</td>\n",
              "      <td>continuous.</td>\n",
              "      <td>continuous.</td>\n",
              "      <td>continuous.</td>\n",
              "      <td>continuous.</td>\n",
              "      <td>continuous.</td>\n",
              "      <td>continuous.</td>\n",
              "      <td>continuous.</td>\n",
              "      <td>continuous.</td>\n",
              "      <td>continuous.</td>\n",
              "      <td>continuous.</td>\n",
              "      <td>continuous.</td>\n",
              "      <td>continuous.</td>\n",
              "      <td>continuous.</td>\n",
              "      <td>continuous.</td>\n",
              "      <td>continuous.</td>\n",
              "      <td>continuous.</td>\n",
              "      <td>continuous.</td>\n",
              "      <td>continuous.</td>\n",
              "      <td>continuous.</td>\n",
              "      <td>continuous.</td>\n",
              "      <td>continuous.</td>\n",
              "      <td>continuous.</td>\n",
              "      <td>continuous.</td>\n",
              "      <td>continuous.</td>\n",
              "      <td>continuous.</td>\n",
              "      <td>continuous.</td>\n",
              "    </tr>\n",
              "  </tbody>\n",
              "</table>\n",
              "</div>"
            ],
            "text/plain": [
              "                        1   ...                         57\n",
              "Variables  word_freq_make:  ...  capital_run_length_total:\n",
              "type           continuous.  ...                continuous.\n",
              "\n",
              "[2 rows x 57 columns]"
            ]
          },
          "metadata": {
            "tags": []
          },
          "execution_count": 4
        }
      ]
    },
    {
      "cell_type": "markdown",
      "metadata": {
        "id": "en8SkdS6g8Pt"
      },
      "source": [
        "* Here first 48 variables are percentage of the words in the email.\n",
        "  \n",
        "  100*(Number of times word appears in the email / Total number of words in the email)\n",
        "  \n",
        "\n",
        "* The second 6 variables are percentage of the symboles in the email.\n",
        "  \n",
        "  100*(Number of times character appears in the email / Total number of characters in the email)\n",
        "  \n",
        "\n",
        "* capital_run_length_average defines the average length uninterrupted sequence of the capital letters.\n",
        "\n",
        "* capital_run_length_longest defines the length of longest uninterrupted sequence of the capital letters.\n",
        "\n",
        "* capital_run_length_total is the sum of lengths of uninterrupted sequence of the capital letters.\n",
        "\n",
        "* Class is the target variable [0: not spam,1: spam]"
      ]
    },
    {
      "cell_type": "markdown",
      "metadata": {
        "id": "aZ640H0NKLYJ"
      },
      "source": [
        "Columns are just the frequency of given words occured in the email and we predict the email is spam or not based on these columns"
      ]
    },
    {
      "cell_type": "markdown",
      "metadata": {
        "id": "EQ7MiBmBg8Pw"
      },
      "source": [
        "****Dataset source**** : http://www.ics.uci.edu/~mlearn/MLRepository.html"
      ]
    },
    {
      "cell_type": "markdown",
      "metadata": {
        "id": "bUK1Cd9Zg8Py"
      },
      "source": [
        "# Objective : \n",
        "  To predict the email is spam or not using different features extracted from the emails"
      ]
    },
    {
      "cell_type": "markdown",
      "metadata": {
        "id": "QH3kCQzNmBGc"
      },
      "source": [
        "Importing required libraries"
      ]
    },
    {
      "cell_type": "code",
      "metadata": {
        "id": "5czICKbOQgaE"
      },
      "source": [
        "import pandas as pd\n",
        "import numpy as np\n",
        "import matplotlib.pyplot as plt\n",
        "import seaborn as sns"
      ],
      "execution_count": 2,
      "outputs": []
    },
    {
      "cell_type": "code",
      "metadata": {
        "id": "24Bkycw2g8P4"
      },
      "source": [
        "# # getting columns names from names dataframe\n",
        "# final_var = [Var.split('_')[-1][:-1] for Var in names.Variables[:48] ]\n",
        "# final_var.extend([var[:-1] for var in names.Variables[48:]])\n",
        "# final_var.append('Class')"
      ],
      "execution_count": 66,
      "outputs": []
    },
    {
      "cell_type": "code",
      "metadata": {
        "colab": {
          "base_uri": "https://localhost:8080/",
          "height": 226
        },
        "id": "seo5v10RQgaH",
        "outputId": "4ac873d1-6b99-45ad-bc63-4456af53b09b"
      },
      "source": [
        "#loading the dataset\n",
        "df=pd.read_csv(\"/content/spam.csv\")\n",
        "df.columns = range(1,59)\n",
        "df.head()"
      ],
      "execution_count": 67,
      "outputs": [
        {
          "output_type": "execute_result",
          "data": {
            "text/html": [
              "<div>\n",
              "<style scoped>\n",
              "    .dataframe tbody tr th:only-of-type {\n",
              "        vertical-align: middle;\n",
              "    }\n",
              "\n",
              "    .dataframe tbody tr th {\n",
              "        vertical-align: top;\n",
              "    }\n",
              "\n",
              "    .dataframe thead th {\n",
              "        text-align: right;\n",
              "    }\n",
              "</style>\n",
              "<table border=\"1\" class=\"dataframe\">\n",
              "  <thead>\n",
              "    <tr style=\"text-align: right;\">\n",
              "      <th></th>\n",
              "      <th>1</th>\n",
              "      <th>2</th>\n",
              "      <th>3</th>\n",
              "      <th>4</th>\n",
              "      <th>5</th>\n",
              "      <th>6</th>\n",
              "      <th>7</th>\n",
              "      <th>8</th>\n",
              "      <th>9</th>\n",
              "      <th>10</th>\n",
              "      <th>11</th>\n",
              "      <th>12</th>\n",
              "      <th>13</th>\n",
              "      <th>14</th>\n",
              "      <th>15</th>\n",
              "      <th>16</th>\n",
              "      <th>17</th>\n",
              "      <th>18</th>\n",
              "      <th>19</th>\n",
              "      <th>20</th>\n",
              "      <th>21</th>\n",
              "      <th>22</th>\n",
              "      <th>23</th>\n",
              "      <th>24</th>\n",
              "      <th>25</th>\n",
              "      <th>26</th>\n",
              "      <th>27</th>\n",
              "      <th>28</th>\n",
              "      <th>29</th>\n",
              "      <th>30</th>\n",
              "      <th>31</th>\n",
              "      <th>32</th>\n",
              "      <th>33</th>\n",
              "      <th>34</th>\n",
              "      <th>35</th>\n",
              "      <th>36</th>\n",
              "      <th>37</th>\n",
              "      <th>38</th>\n",
              "      <th>39</th>\n",
              "      <th>40</th>\n",
              "      <th>41</th>\n",
              "      <th>42</th>\n",
              "      <th>43</th>\n",
              "      <th>44</th>\n",
              "      <th>45</th>\n",
              "      <th>46</th>\n",
              "      <th>47</th>\n",
              "      <th>48</th>\n",
              "      <th>49</th>\n",
              "      <th>50</th>\n",
              "      <th>51</th>\n",
              "      <th>52</th>\n",
              "      <th>53</th>\n",
              "      <th>54</th>\n",
              "      <th>55</th>\n",
              "      <th>56</th>\n",
              "      <th>57</th>\n",
              "      <th>58</th>\n",
              "    </tr>\n",
              "  </thead>\n",
              "  <tbody>\n",
              "    <tr>\n",
              "      <th>0</th>\n",
              "      <td>0.21</td>\n",
              "      <td>0.28</td>\n",
              "      <td>0.50</td>\n",
              "      <td>0.0</td>\n",
              "      <td>0.14</td>\n",
              "      <td>0.28</td>\n",
              "      <td>0.21</td>\n",
              "      <td>0.07</td>\n",
              "      <td>0.00</td>\n",
              "      <td>0.94</td>\n",
              "      <td>0.21</td>\n",
              "      <td>0.79</td>\n",
              "      <td>0.65</td>\n",
              "      <td>0.21</td>\n",
              "      <td>0.14</td>\n",
              "      <td>0.14</td>\n",
              "      <td>0.07</td>\n",
              "      <td>0.28</td>\n",
              "      <td>3.47</td>\n",
              "      <td>0.00</td>\n",
              "      <td>1.59</td>\n",
              "      <td>0.0</td>\n",
              "      <td>0.43</td>\n",
              "      <td>0.43</td>\n",
              "      <td>0.0</td>\n",
              "      <td>0.0</td>\n",
              "      <td>0.0</td>\n",
              "      <td>0.0</td>\n",
              "      <td>0.0</td>\n",
              "      <td>0.0</td>\n",
              "      <td>0.0</td>\n",
              "      <td>0.0</td>\n",
              "      <td>0.0</td>\n",
              "      <td>0.0</td>\n",
              "      <td>0.0</td>\n",
              "      <td>0.0</td>\n",
              "      <td>0.07</td>\n",
              "      <td>0.0</td>\n",
              "      <td>0.0</td>\n",
              "      <td>0.00</td>\n",
              "      <td>0.0</td>\n",
              "      <td>0.0</td>\n",
              "      <td>0.00</td>\n",
              "      <td>0.0</td>\n",
              "      <td>0.00</td>\n",
              "      <td>0.00</td>\n",
              "      <td>0.0</td>\n",
              "      <td>0.0</td>\n",
              "      <td>0.00</td>\n",
              "      <td>0.132</td>\n",
              "      <td>0.0</td>\n",
              "      <td>0.372</td>\n",
              "      <td>0.180</td>\n",
              "      <td>0.048</td>\n",
              "      <td>5.114</td>\n",
              "      <td>101</td>\n",
              "      <td>1028</td>\n",
              "      <td>1</td>\n",
              "    </tr>\n",
              "    <tr>\n",
              "      <th>1</th>\n",
              "      <td>0.06</td>\n",
              "      <td>0.00</td>\n",
              "      <td>0.71</td>\n",
              "      <td>0.0</td>\n",
              "      <td>1.23</td>\n",
              "      <td>0.19</td>\n",
              "      <td>0.19</td>\n",
              "      <td>0.12</td>\n",
              "      <td>0.64</td>\n",
              "      <td>0.25</td>\n",
              "      <td>0.38</td>\n",
              "      <td>0.45</td>\n",
              "      <td>0.12</td>\n",
              "      <td>0.00</td>\n",
              "      <td>1.75</td>\n",
              "      <td>0.06</td>\n",
              "      <td>0.06</td>\n",
              "      <td>1.03</td>\n",
              "      <td>1.36</td>\n",
              "      <td>0.32</td>\n",
              "      <td>0.51</td>\n",
              "      <td>0.0</td>\n",
              "      <td>1.16</td>\n",
              "      <td>0.06</td>\n",
              "      <td>0.0</td>\n",
              "      <td>0.0</td>\n",
              "      <td>0.0</td>\n",
              "      <td>0.0</td>\n",
              "      <td>0.0</td>\n",
              "      <td>0.0</td>\n",
              "      <td>0.0</td>\n",
              "      <td>0.0</td>\n",
              "      <td>0.0</td>\n",
              "      <td>0.0</td>\n",
              "      <td>0.0</td>\n",
              "      <td>0.0</td>\n",
              "      <td>0.00</td>\n",
              "      <td>0.0</td>\n",
              "      <td>0.0</td>\n",
              "      <td>0.06</td>\n",
              "      <td>0.0</td>\n",
              "      <td>0.0</td>\n",
              "      <td>0.12</td>\n",
              "      <td>0.0</td>\n",
              "      <td>0.06</td>\n",
              "      <td>0.06</td>\n",
              "      <td>0.0</td>\n",
              "      <td>0.0</td>\n",
              "      <td>0.01</td>\n",
              "      <td>0.143</td>\n",
              "      <td>0.0</td>\n",
              "      <td>0.276</td>\n",
              "      <td>0.184</td>\n",
              "      <td>0.010</td>\n",
              "      <td>9.821</td>\n",
              "      <td>485</td>\n",
              "      <td>2259</td>\n",
              "      <td>1</td>\n",
              "    </tr>\n",
              "    <tr>\n",
              "      <th>2</th>\n",
              "      <td>0.00</td>\n",
              "      <td>0.00</td>\n",
              "      <td>0.00</td>\n",
              "      <td>0.0</td>\n",
              "      <td>0.63</td>\n",
              "      <td>0.00</td>\n",
              "      <td>0.31</td>\n",
              "      <td>0.63</td>\n",
              "      <td>0.31</td>\n",
              "      <td>0.63</td>\n",
              "      <td>0.31</td>\n",
              "      <td>0.31</td>\n",
              "      <td>0.31</td>\n",
              "      <td>0.00</td>\n",
              "      <td>0.00</td>\n",
              "      <td>0.31</td>\n",
              "      <td>0.00</td>\n",
              "      <td>0.00</td>\n",
              "      <td>3.18</td>\n",
              "      <td>0.00</td>\n",
              "      <td>0.31</td>\n",
              "      <td>0.0</td>\n",
              "      <td>0.00</td>\n",
              "      <td>0.00</td>\n",
              "      <td>0.0</td>\n",
              "      <td>0.0</td>\n",
              "      <td>0.0</td>\n",
              "      <td>0.0</td>\n",
              "      <td>0.0</td>\n",
              "      <td>0.0</td>\n",
              "      <td>0.0</td>\n",
              "      <td>0.0</td>\n",
              "      <td>0.0</td>\n",
              "      <td>0.0</td>\n",
              "      <td>0.0</td>\n",
              "      <td>0.0</td>\n",
              "      <td>0.00</td>\n",
              "      <td>0.0</td>\n",
              "      <td>0.0</td>\n",
              "      <td>0.00</td>\n",
              "      <td>0.0</td>\n",
              "      <td>0.0</td>\n",
              "      <td>0.00</td>\n",
              "      <td>0.0</td>\n",
              "      <td>0.00</td>\n",
              "      <td>0.00</td>\n",
              "      <td>0.0</td>\n",
              "      <td>0.0</td>\n",
              "      <td>0.00</td>\n",
              "      <td>0.137</td>\n",
              "      <td>0.0</td>\n",
              "      <td>0.137</td>\n",
              "      <td>0.000</td>\n",
              "      <td>0.000</td>\n",
              "      <td>3.537</td>\n",
              "      <td>40</td>\n",
              "      <td>191</td>\n",
              "      <td>1</td>\n",
              "    </tr>\n",
              "    <tr>\n",
              "      <th>3</th>\n",
              "      <td>0.00</td>\n",
              "      <td>0.00</td>\n",
              "      <td>0.00</td>\n",
              "      <td>0.0</td>\n",
              "      <td>0.63</td>\n",
              "      <td>0.00</td>\n",
              "      <td>0.31</td>\n",
              "      <td>0.63</td>\n",
              "      <td>0.31</td>\n",
              "      <td>0.63</td>\n",
              "      <td>0.31</td>\n",
              "      <td>0.31</td>\n",
              "      <td>0.31</td>\n",
              "      <td>0.00</td>\n",
              "      <td>0.00</td>\n",
              "      <td>0.31</td>\n",
              "      <td>0.00</td>\n",
              "      <td>0.00</td>\n",
              "      <td>3.18</td>\n",
              "      <td>0.00</td>\n",
              "      <td>0.31</td>\n",
              "      <td>0.0</td>\n",
              "      <td>0.00</td>\n",
              "      <td>0.00</td>\n",
              "      <td>0.0</td>\n",
              "      <td>0.0</td>\n",
              "      <td>0.0</td>\n",
              "      <td>0.0</td>\n",
              "      <td>0.0</td>\n",
              "      <td>0.0</td>\n",
              "      <td>0.0</td>\n",
              "      <td>0.0</td>\n",
              "      <td>0.0</td>\n",
              "      <td>0.0</td>\n",
              "      <td>0.0</td>\n",
              "      <td>0.0</td>\n",
              "      <td>0.00</td>\n",
              "      <td>0.0</td>\n",
              "      <td>0.0</td>\n",
              "      <td>0.00</td>\n",
              "      <td>0.0</td>\n",
              "      <td>0.0</td>\n",
              "      <td>0.00</td>\n",
              "      <td>0.0</td>\n",
              "      <td>0.00</td>\n",
              "      <td>0.00</td>\n",
              "      <td>0.0</td>\n",
              "      <td>0.0</td>\n",
              "      <td>0.00</td>\n",
              "      <td>0.135</td>\n",
              "      <td>0.0</td>\n",
              "      <td>0.135</td>\n",
              "      <td>0.000</td>\n",
              "      <td>0.000</td>\n",
              "      <td>3.537</td>\n",
              "      <td>40</td>\n",
              "      <td>191</td>\n",
              "      <td>1</td>\n",
              "    </tr>\n",
              "    <tr>\n",
              "      <th>4</th>\n",
              "      <td>0.00</td>\n",
              "      <td>0.00</td>\n",
              "      <td>0.00</td>\n",
              "      <td>0.0</td>\n",
              "      <td>1.85</td>\n",
              "      <td>0.00</td>\n",
              "      <td>0.00</td>\n",
              "      <td>1.85</td>\n",
              "      <td>0.00</td>\n",
              "      <td>0.00</td>\n",
              "      <td>0.00</td>\n",
              "      <td>0.00</td>\n",
              "      <td>0.00</td>\n",
              "      <td>0.00</td>\n",
              "      <td>0.00</td>\n",
              "      <td>0.00</td>\n",
              "      <td>0.00</td>\n",
              "      <td>0.00</td>\n",
              "      <td>0.00</td>\n",
              "      <td>0.00</td>\n",
              "      <td>0.00</td>\n",
              "      <td>0.0</td>\n",
              "      <td>0.00</td>\n",
              "      <td>0.00</td>\n",
              "      <td>0.0</td>\n",
              "      <td>0.0</td>\n",
              "      <td>0.0</td>\n",
              "      <td>0.0</td>\n",
              "      <td>0.0</td>\n",
              "      <td>0.0</td>\n",
              "      <td>0.0</td>\n",
              "      <td>0.0</td>\n",
              "      <td>0.0</td>\n",
              "      <td>0.0</td>\n",
              "      <td>0.0</td>\n",
              "      <td>0.0</td>\n",
              "      <td>0.00</td>\n",
              "      <td>0.0</td>\n",
              "      <td>0.0</td>\n",
              "      <td>0.00</td>\n",
              "      <td>0.0</td>\n",
              "      <td>0.0</td>\n",
              "      <td>0.00</td>\n",
              "      <td>0.0</td>\n",
              "      <td>0.00</td>\n",
              "      <td>0.00</td>\n",
              "      <td>0.0</td>\n",
              "      <td>0.0</td>\n",
              "      <td>0.00</td>\n",
              "      <td>0.223</td>\n",
              "      <td>0.0</td>\n",
              "      <td>0.000</td>\n",
              "      <td>0.000</td>\n",
              "      <td>0.000</td>\n",
              "      <td>3.000</td>\n",
              "      <td>15</td>\n",
              "      <td>54</td>\n",
              "      <td>1</td>\n",
              "    </tr>\n",
              "  </tbody>\n",
              "</table>\n",
              "</div>"
            ],
            "text/plain": [
              "     1     2     3    4     5     6   ...     53     54     55   56    57  58\n",
              "0  0.21  0.28  0.50  0.0  0.14  0.28  ...  0.180  0.048  5.114  101  1028   1\n",
              "1  0.06  0.00  0.71  0.0  1.23  0.19  ...  0.184  0.010  9.821  485  2259   1\n",
              "2  0.00  0.00  0.00  0.0  0.63  0.00  ...  0.000  0.000  3.537   40   191   1\n",
              "3  0.00  0.00  0.00  0.0  0.63  0.00  ...  0.000  0.000  3.537   40   191   1\n",
              "4  0.00  0.00  0.00  0.0  1.85  0.00  ...  0.000  0.000  3.000   15    54   1\n",
              "\n",
              "[5 rows x 58 columns]"
            ]
          },
          "metadata": {
            "tags": []
          },
          "execution_count": 67
        }
      ]
    },
    {
      "cell_type": "code",
      "metadata": {
        "id": "mOWAwvPxQgaM",
        "colab": {
          "base_uri": "https://localhost:8080/"
        },
        "outputId": "bebe6641-a77a-47c9-e55e-d234571aa4cd"
      },
      "source": [
        "#cheaking datatypes\n",
        "df.info()"
      ],
      "execution_count": 8,
      "outputs": [
        {
          "output_type": "stream",
          "text": [
            "<class 'pandas.core.frame.DataFrame'>\n",
            "RangeIndex: 4600 entries, 0 to 4599\n",
            "Data columns (total 58 columns):\n",
            " #   Column                      Non-Null Count  Dtype  \n",
            "---  ------                      --------------  -----  \n",
            " 0   make                        4600 non-null   float64\n",
            " 1   address                     4600 non-null   float64\n",
            " 2   all                         4600 non-null   float64\n",
            " 3   3d                          4600 non-null   float64\n",
            " 4   our                         4600 non-null   float64\n",
            " 5   over                        4600 non-null   float64\n",
            " 6   remove                      4600 non-null   float64\n",
            " 7   internet                    4600 non-null   float64\n",
            " 8   order                       4600 non-null   float64\n",
            " 9   mail                        4600 non-null   float64\n",
            " 10  receive                     4600 non-null   float64\n",
            " 11  will                        4600 non-null   float64\n",
            " 12  people                      4600 non-null   float64\n",
            " 13  report                      4600 non-null   float64\n",
            " 14  addresses                   4600 non-null   float64\n",
            " 15  free                        4600 non-null   float64\n",
            " 16  business                    4600 non-null   float64\n",
            " 17  email                       4600 non-null   float64\n",
            " 18  you                         4600 non-null   float64\n",
            " 19  credit                      4600 non-null   float64\n",
            " 20  your                        4600 non-null   float64\n",
            " 21  font                        4600 non-null   float64\n",
            " 22  000                         4600 non-null   float64\n",
            " 23  money                       4600 non-null   float64\n",
            " 24  hp                          4600 non-null   float64\n",
            " 25  hpl                         4600 non-null   float64\n",
            " 26  george                      4600 non-null   float64\n",
            " 27  650                         4600 non-null   float64\n",
            " 28  lab                         4600 non-null   float64\n",
            " 29  labs                        4600 non-null   float64\n",
            " 30  telnet                      4600 non-null   float64\n",
            " 31  857                         4600 non-null   float64\n",
            " 32  data                        4600 non-null   float64\n",
            " 33  415                         4600 non-null   float64\n",
            " 34  85                          4600 non-null   float64\n",
            " 35  technology                  4600 non-null   float64\n",
            " 36  1999                        4600 non-null   float64\n",
            " 37  parts                       4600 non-null   float64\n",
            " 38  pm                          4600 non-null   float64\n",
            " 39  direct                      4600 non-null   float64\n",
            " 40  cs                          4600 non-null   float64\n",
            " 41  meeting                     4600 non-null   float64\n",
            " 42  original                    4600 non-null   float64\n",
            " 43  project                     4600 non-null   float64\n",
            " 44  re                          4600 non-null   float64\n",
            " 45  edu                         4600 non-null   float64\n",
            " 46  table                       4600 non-null   float64\n",
            " 47  conference                  4600 non-null   float64\n",
            " 48  char_freq_;                 4600 non-null   float64\n",
            " 49  char_freq_(                 4600 non-null   float64\n",
            " 50  char_freq_[                 4600 non-null   float64\n",
            " 51  char_freq_!                 4600 non-null   float64\n",
            " 52  char_freq_$                 4600 non-null   float64\n",
            " 53  char_freq_#                 4600 non-null   float64\n",
            " 54  capital_run_length_average  4600 non-null   float64\n",
            " 55  capital_run_length_longest  4600 non-null   int64  \n",
            " 56  capital_run_length_total    4600 non-null   int64  \n",
            " 57  Class                       4600 non-null   int64  \n",
            "dtypes: float64(55), int64(3)\n",
            "memory usage: 2.0 MB\n"
          ],
          "name": "stdout"
        }
      ]
    },
    {
      "cell_type": "markdown",
      "metadata": {
        "id": "5FjQQgXDQgaO"
      },
      "source": [
        "dtypes: float64(57), int64(1)"
      ]
    },
    {
      "cell_type": "code",
      "metadata": {
        "colab": {
          "base_uri": "https://localhost:8080/"
        },
        "id": "uRGhfSg3QgaQ",
        "outputId": "28c58269-69bc-489c-ec20-2041dcbef9fe"
      },
      "source": [
        "# cheak shape of dataset\n",
        "df.shape"
      ],
      "execution_count": null,
      "outputs": [
        {
          "output_type": "execute_result",
          "data": {
            "text/plain": [
              "(4601, 58)"
            ]
          },
          "metadata": {
            "tags": []
          },
          "execution_count": 61
        }
      ]
    },
    {
      "cell_type": "markdown",
      "metadata": {
        "id": "YgYIySMaQgaS"
      },
      "source": [
        "Rows=214  ,   columns(features)=57"
      ]
    },
    {
      "cell_type": "code",
      "metadata": {
        "colab": {
          "base_uri": "https://localhost:8080/"
        },
        "id": "5luiC60AQgaU",
        "outputId": "bfaeb188-b19f-42e7-d8ef-e22656cd3d27"
      },
      "source": [
        "# cheak null values\n",
        "df.isna().sum().sum()"
      ],
      "execution_count": null,
      "outputs": [
        {
          "output_type": "execute_result",
          "data": {
            "text/plain": [
              "0"
            ]
          },
          "metadata": {
            "tags": []
          },
          "execution_count": 62
        }
      ]
    },
    {
      "cell_type": "markdown",
      "metadata": {
        "id": "ZFy-5R1DQgaX"
      },
      "source": [
        "No null values present in the dataset"
      ]
    },
    {
      "cell_type": "markdown",
      "metadata": {
        "id": "wQQEEil1g8QU"
      },
      "source": [
        "# EDA plots"
      ]
    },
    {
      "cell_type": "code",
      "metadata": {
        "id": "7jZqAQNJg8QV",
        "outputId": "4c663eca-1ac9-4578-c1e6-bea84ec8439f"
      },
      "source": [
        "data1 = df[df['Class']==1]\n",
        "data = data1.loc[:,:'conference']\n",
        "x = data.columns\n",
        "y = [data[col].mean() for col in data.columns]\n",
        "plt.figure(figsize = [15,10])\n",
        "plt.title('Average percentage of the words in the spam emails',fontdict={'fontsize':18})\n",
        "sns.barplot(x = x, y = y)\n",
        "plt.xlabel('Words in the email',fontdict={'fontsize':14})\n",
        "plt.ylabel('Average percentage',fontdict={'fontsize':14})\n",
        "plt.xticks(rotation = 90)\n",
        "plt.show()"
      ],
      "execution_count": null,
      "outputs": [
        {
          "output_type": "display_data",
          "data": {
            "image/png": "[encoded data removed]",
            "text/plain": [
              "<Figure size 1080x720 with 1 Axes>"
            ]
          },
          "metadata": {
            "tags": [],
            "needs_background": "light"
          }
        }
      ]
    },
    {
      "cell_type": "markdown",
      "metadata": {
        "id": "zJXYThR1g8QZ"
      },
      "source": [
        "### From above bar plot we can see that 'you' world used most of the time in the mail."
      ]
    },
    {
      "cell_type": "code",
      "metadata": {
        "scrolled": true,
        "id": "t4tTepA8g8Qa",
        "outputId": "3e8e58a4-e1de-4687-9602-1ef7623e56ff"
      },
      "source": [
        "data1 = df[df['Class']==1]\n",
        "# plot for characters\n",
        "data = data1.loc[:,'char_freq_;':'char_freq_#']\n",
        "x = data.columns\n",
        "y = [data[col].mean() for col in data.columns]\n",
        "plt.title('Average percentage of the characters in the spam emails',fontdict={'fontsize':16})\n",
        "sns.barplot(x = x, y = y)\n",
        "plt.xlabel('characters in the email',fontdict={'fontsize':14})\n",
        "plt.ylabel('Average percentage',fontdict={'fontsize':14})\n",
        "plt.xticks(rotation = 90)\n",
        "\n",
        "plt.show()"
      ],
      "execution_count": null,
      "outputs": [
        {
          "output_type": "display_data",
          "data": {
            "image/png": "[encoded data removed]",
            "text/plain": [
              "<Figure size 432x288 with 1 Axes>"
            ]
          },
          "metadata": {
            "tags": [],
            "needs_background": "light"
          }
        }
      ]
    },
    {
      "cell_type": "markdown",
      "metadata": {
        "id": "JnavUce4g8Qe"
      },
      "source": [
        "### form the above bar plot chatracter '!' used most of the time in the mail"
      ]
    },
    {
      "cell_type": "code",
      "metadata": {
        "id": "cZB0Rkzgg8Qg",
        "outputId": "a648c28c-0518-4ca5-dcb6-dcd7f14b026c"
      },
      "source": [
        "plt.figure(figsize=(8, 15))\n",
        "heatmap = sns.heatmap(df.corr()[['Class']].sort_values(by='Class', ascending=False), vmin=-1, vmax=1, annot=True, cmap='BrBG')\n",
        "heatmap.set_title('Features Correlating with Class', fontdict={'fontsize':18}, pad=16);"
      ],
      "execution_count": null,
      "outputs": [
        {
          "output_type": "display_data",
          "data": {
            "image/png": "[encoded data removed]",
            "text/plain": [
              "<Figure size 576x1080 with 2 Axes>"
            ]
          },
          "metadata": {
            "tags": [],
            "needs_background": "light"
          }
        }
      ]
    },
    {
      "cell_type": "markdown",
      "metadata": {
        "id": "a0Kgy0mzg8Ql"
      },
      "source": [
        "### Here we can see that word \"you\" is highly correlated with class."
      ]
    },
    {
      "cell_type": "code",
      "metadata": {
        "id": "Ync7Om9sg8Qn",
        "outputId": "713ca06b-d064-4eed-bc62-2da60a8c4451"
      },
      "source": [
        "df.columns"
      ],
      "execution_count": null,
      "outputs": [
        {
          "output_type": "execute_result",
          "data": {
            "text/plain": [
              "Index(['make', 'address', 'all', '3d', 'our', 'over', 'remove', 'internet',\n",
              "       'order', 'mail', 'receive', 'will', 'people', 'report', 'addresses',\n",
              "       'free', 'business', 'email', 'you', 'credit', 'your', 'font', '000',\n",
              "       'money', 'hp', 'hpl', 'george', '650', 'lab', 'labs', 'telnet', '857',\n",
              "       'data', '415', '85', 'technology', '1999', 'parts', 'pm', 'direct',\n",
              "       'cs', 'meeting', 'original', 'project', 're', 'edu', 'table',\n",
              "       'conference', 'char_freq_;', 'char_freq_(', 'char_freq_[',\n",
              "       'char_freq_!', 'char_freq_$', 'char_freq_#',\n",
              "       'capital_run_length_average', 'capital_run_length_longest',\n",
              "       'capital_run_length_total', 'Class'],\n",
              "      dtype='object')"
            ]
          },
          "metadata": {
            "tags": []
          },
          "execution_count": 113
        }
      ]
    },
    {
      "cell_type": "code",
      "metadata": {
        "colab": {
          "base_uri": "https://localhost:8080/"
        },
        "id": "oj1Ee1gxQgab",
        "outputId": "0adc8c75-58ad-471f-f786-40e121dfe611"
      },
      "source": [
        "df[\"Class\"].unique()"
      ],
      "execution_count": null,
      "outputs": [
        {
          "output_type": "execute_result",
          "data": {
            "text/plain": [
              "array([1., 0.])"
            ]
          },
          "metadata": {
            "tags": []
          },
          "execution_count": 148
        }
      ]
    },
    {
      "cell_type": "code",
      "metadata": {
        "id": "modumR5hQgad",
        "outputId": "6648cbff-b89b-4de4-d0ef-eafca1934b10"
      },
      "source": [
        "# describe the data\n",
        "df.describe()"
      ],
      "execution_count": null,
      "outputs": [
        {
          "output_type": "execute_result",
          "data": {
            "text/html": [
              "<div>\n",
              "<style scoped>\n",
              "    .dataframe tbody tr th:only-of-type {\n",
              "        vertical-align: middle;\n",
              "    }\n",
              "\n",
              "    .dataframe tbody tr th {\n",
              "        vertical-align: top;\n",
              "    }\n",
              "\n",
              "    .dataframe thead th {\n",
              "        text-align: right;\n",
              "    }\n",
              "</style>\n",
              "<table border=\"1\" class=\"dataframe\">\n",
              "  <thead>\n",
              "    <tr style=\"text-align: right;\">\n",
              "      <th></th>\n",
              "      <th>make</th>\n",
              "      <th>address</th>\n",
              "      <th>all</th>\n",
              "      <th>3d</th>\n",
              "      <th>our</th>\n",
              "      <th>over</th>\n",
              "      <th>remove</th>\n",
              "      <th>internet</th>\n",
              "      <th>order</th>\n",
              "      <th>mail</th>\n",
              "      <th>...</th>\n",
              "      <th>char_freq_;</th>\n",
              "      <th>char_freq_(</th>\n",
              "      <th>char_freq_[</th>\n",
              "      <th>char_freq_!</th>\n",
              "      <th>char_freq_$</th>\n",
              "      <th>char_freq_#</th>\n",
              "      <th>capital_run_length_average</th>\n",
              "      <th>capital_run_length_longest</th>\n",
              "      <th>capital_run_length_total</th>\n",
              "      <th>Class</th>\n",
              "    </tr>\n",
              "  </thead>\n",
              "  <tbody>\n",
              "    <tr>\n",
              "      <th>count</th>\n",
              "      <td>4600.000000</td>\n",
              "      <td>4600.000000</td>\n",
              "      <td>4600.000000</td>\n",
              "      <td>4600.000000</td>\n",
              "      <td>4600.000000</td>\n",
              "      <td>4600.000000</td>\n",
              "      <td>4600.000000</td>\n",
              "      <td>4600.000000</td>\n",
              "      <td>4600.000000</td>\n",
              "      <td>4600.000000</td>\n",
              "      <td>...</td>\n",
              "      <td>4600.000000</td>\n",
              "      <td>4600.000000</td>\n",
              "      <td>4600.000000</td>\n",
              "      <td>4600.000000</td>\n",
              "      <td>4600.000000</td>\n",
              "      <td>4600.000000</td>\n",
              "      <td>4600.000000</td>\n",
              "      <td>4600.000000</td>\n",
              "      <td>4600.000000</td>\n",
              "      <td>4600.000000</td>\n",
              "    </tr>\n",
              "    <tr>\n",
              "      <th>mean</th>\n",
              "      <td>0.023197</td>\n",
              "      <td>0.014910</td>\n",
              "      <td>0.055129</td>\n",
              "      <td>0.001529</td>\n",
              "      <td>0.031285</td>\n",
              "      <td>0.016313</td>\n",
              "      <td>0.015713</td>\n",
              "      <td>0.009480</td>\n",
              "      <td>0.017127</td>\n",
              "      <td>0.013172</td>\n",
              "      <td>...</td>\n",
              "      <td>0.008799</td>\n",
              "      <td>0.014271</td>\n",
              "      <td>0.004161</td>\n",
              "      <td>0.008308</td>\n",
              "      <td>0.012632</td>\n",
              "      <td>0.002231</td>\n",
              "      <td>0.004327</td>\n",
              "      <td>0.007297</td>\n",
              "      <td>0.043472</td>\n",
              "      <td>0.393913</td>\n",
              "    </tr>\n",
              "    <tr>\n",
              "      <th>std</th>\n",
              "      <td>0.068614</td>\n",
              "      <td>0.090385</td>\n",
              "      <td>0.099240</td>\n",
              "      <td>0.032593</td>\n",
              "      <td>0.067393</td>\n",
              "      <td>0.046573</td>\n",
              "      <td>0.053849</td>\n",
              "      <td>0.036104</td>\n",
              "      <td>0.052974</td>\n",
              "      <td>0.035468</td>\n",
              "      <td>...</td>\n",
              "      <td>0.055530</td>\n",
              "      <td>0.027732</td>\n",
              "      <td>0.026809</td>\n",
              "      <td>0.025175</td>\n",
              "      <td>0.040964</td>\n",
              "      <td>0.021655</td>\n",
              "      <td>0.038099</td>\n",
              "      <td>0.105952</td>\n",
              "      <td>1.292552</td>\n",
              "      <td>0.488669</td>\n",
              "    </tr>\n",
              "    <tr>\n",
              "      <th>min</th>\n",
              "      <td>0.000000</td>\n",
              "      <td>0.000000</td>\n",
              "      <td>0.000000</td>\n",
              "      <td>0.000000</td>\n",
              "      <td>0.000000</td>\n",
              "      <td>0.000000</td>\n",
              "      <td>0.000000</td>\n",
              "      <td>0.000000</td>\n",
              "      <td>0.000000</td>\n",
              "      <td>0.000000</td>\n",
              "      <td>...</td>\n",
              "      <td>0.000000</td>\n",
              "      <td>0.000000</td>\n",
              "      <td>0.000000</td>\n",
              "      <td>0.000000</td>\n",
              "      <td>0.000000</td>\n",
              "      <td>0.000000</td>\n",
              "      <td>0.000000</td>\n",
              "      <td>0.000000</td>\n",
              "      <td>0.000000</td>\n",
              "      <td>0.000000</td>\n",
              "    </tr>\n",
              "    <tr>\n",
              "      <th>25%</th>\n",
              "      <td>0.000000</td>\n",
              "      <td>0.000000</td>\n",
              "      <td>0.000000</td>\n",
              "      <td>0.000000</td>\n",
              "      <td>0.000000</td>\n",
              "      <td>0.000000</td>\n",
              "      <td>0.000000</td>\n",
              "      <td>0.000000</td>\n",
              "      <td>0.000000</td>\n",
              "      <td>0.000000</td>\n",
              "      <td>...</td>\n",
              "      <td>0.000000</td>\n",
              "      <td>0.000000</td>\n",
              "      <td>0.000000</td>\n",
              "      <td>0.000000</td>\n",
              "      <td>0.000000</td>\n",
              "      <td>0.000000</td>\n",
              "      <td>0.000536</td>\n",
              "      <td>0.000501</td>\n",
              "      <td>0.002146</td>\n",
              "      <td>0.000000</td>\n",
              "    </tr>\n",
              "    <tr>\n",
              "      <th>50%</th>\n",
              "      <td>0.000000</td>\n",
              "      <td>0.000000</td>\n",
              "      <td>0.000000</td>\n",
              "      <td>0.000000</td>\n",
              "      <td>0.000000</td>\n",
              "      <td>0.000000</td>\n",
              "      <td>0.000000</td>\n",
              "      <td>0.000000</td>\n",
              "      <td>0.000000</td>\n",
              "      <td>0.000000</td>\n",
              "      <td>...</td>\n",
              "      <td>0.000000</td>\n",
              "      <td>0.006665</td>\n",
              "      <td>0.000000</td>\n",
              "      <td>0.000000</td>\n",
              "      <td>0.000000</td>\n",
              "      <td>0.000000</td>\n",
              "      <td>0.001159</td>\n",
              "      <td>0.001402</td>\n",
              "      <td>0.005934</td>\n",
              "      <td>0.000000</td>\n",
              "    </tr>\n",
              "    <tr>\n",
              "      <th>75%</th>\n",
              "      <td>0.000000</td>\n",
              "      <td>0.000000</td>\n",
              "      <td>0.082353</td>\n",
              "      <td>0.000000</td>\n",
              "      <td>0.039000</td>\n",
              "      <td>0.000000</td>\n",
              "      <td>0.000000</td>\n",
              "      <td>0.000000</td>\n",
              "      <td>0.000000</td>\n",
              "      <td>0.008801</td>\n",
              "      <td>...</td>\n",
              "      <td>0.000000</td>\n",
              "      <td>0.019278</td>\n",
              "      <td>0.000000</td>\n",
              "      <td>0.009699</td>\n",
              "      <td>0.008662</td>\n",
              "      <td>0.000000</td>\n",
              "      <td>0.002458</td>\n",
              "      <td>0.004205</td>\n",
              "      <td>0.016730</td>\n",
              "      <td>1.000000</td>\n",
              "    </tr>\n",
              "    <tr>\n",
              "      <th>max</th>\n",
              "      <td>1.000000</td>\n",
              "      <td>1.000000</td>\n",
              "      <td>1.000000</td>\n",
              "      <td>1.000000</td>\n",
              "      <td>1.000000</td>\n",
              "      <td>1.000000</td>\n",
              "      <td>1.000000</td>\n",
              "      <td>1.000000</td>\n",
              "      <td>1.000000</td>\n",
              "      <td>1.000000</td>\n",
              "      <td>...</td>\n",
              "      <td>1.000000</td>\n",
              "      <td>1.000000</td>\n",
              "      <td>1.000000</td>\n",
              "      <td>1.000000</td>\n",
              "      <td>1.000000</td>\n",
              "      <td>1.000000</td>\n",
              "      <td>1.250000</td>\n",
              "      <td>5.000000</td>\n",
              "      <td>78.000000</td>\n",
              "      <td>1.000000</td>\n",
              "    </tr>\n",
              "  </tbody>\n",
              "</table>\n",
              "<p>8 rows × 58 columns</p>\n",
              "</div>"
            ],
            "text/plain": [
              "              make      address          all           3d          our  \\\n",
              "count  4600.000000  4600.000000  4600.000000  4600.000000  4600.000000   \n",
              "mean      0.023197     0.014910     0.055129     0.001529     0.031285   \n",
              "std       0.068614     0.090385     0.099240     0.032593     0.067393   \n",
              "min       0.000000     0.000000     0.000000     0.000000     0.000000   \n",
              "25%       0.000000     0.000000     0.000000     0.000000     0.000000   \n",
              "50%       0.000000     0.000000     0.000000     0.000000     0.000000   \n",
              "75%       0.000000     0.000000     0.082353     0.000000     0.039000   \n",
              "max       1.000000     1.000000     1.000000     1.000000     1.000000   \n",
              "\n",
              "              over       remove     internet        order         mail  ...  \\\n",
              "count  4600.000000  4600.000000  4600.000000  4600.000000  4600.000000  ...   \n",
              "mean      0.016313     0.015713     0.009480     0.017127     0.013172  ...   \n",
              "std       0.046573     0.053849     0.036104     0.052974     0.035468  ...   \n",
              "min       0.000000     0.000000     0.000000     0.000000     0.000000  ...   \n",
              "25%       0.000000     0.000000     0.000000     0.000000     0.000000  ...   \n",
              "50%       0.000000     0.000000     0.000000     0.000000     0.000000  ...   \n",
              "75%       0.000000     0.000000     0.000000     0.000000     0.008801  ...   \n",
              "max       1.000000     1.000000     1.000000     1.000000     1.000000  ...   \n",
              "\n",
              "       char_freq_;  char_freq_(  char_freq_[  char_freq_!  char_freq_$  \\\n",
              "count  4600.000000  4600.000000  4600.000000  4600.000000  4600.000000   \n",
              "mean      0.008799     0.014271     0.004161     0.008308     0.012632   \n",
              "std       0.055530     0.027732     0.026809     0.025175     0.040964   \n",
              "min       0.000000     0.000000     0.000000     0.000000     0.000000   \n",
              "25%       0.000000     0.000000     0.000000     0.000000     0.000000   \n",
              "50%       0.000000     0.006665     0.000000     0.000000     0.000000   \n",
              "75%       0.000000     0.019278     0.000000     0.009699     0.008662   \n",
              "max       1.000000     1.000000     1.000000     1.000000     1.000000   \n",
              "\n",
              "       char_freq_#  capital_run_length_average  capital_run_length_longest  \\\n",
              "count  4600.000000                 4600.000000                 4600.000000   \n",
              "mean      0.002231                    0.004327                    0.007297   \n",
              "std       0.021655                    0.038099                    0.105952   \n",
              "min       0.000000                    0.000000                    0.000000   \n",
              "25%       0.000000                    0.000536                    0.000501   \n",
              "50%       0.000000                    0.001159                    0.001402   \n",
              "75%       0.000000                    0.002458                    0.004205   \n",
              "max       1.000000                    1.250000                    5.000000   \n",
              "\n",
              "       capital_run_length_total        Class  \n",
              "count               4600.000000  4600.000000  \n",
              "mean                   0.043472     0.393913  \n",
              "std                    1.292552     0.488669  \n",
              "min                    0.000000     0.000000  \n",
              "25%                    0.002146     0.000000  \n",
              "50%                    0.005934     0.000000  \n",
              "75%                    0.016730     1.000000  \n",
              "max                   78.000000     1.000000  \n",
              "\n",
              "[8 rows x 58 columns]"
            ]
          },
          "metadata": {
            "tags": []
          },
          "execution_count": 42
        }
      ]
    },
    {
      "cell_type": "markdown",
      "metadata": {
        "id": "MyV0V0RKQgaf"
      },
      "source": [
        "### column 56 and 57 need to be scaled as mean and variance of these columns is higher than other columns "
      ]
    },
    {
      "cell_type": "code",
      "metadata": {
        "colab": {
          "base_uri": "https://localhost:8080/",
          "height": 163
        },
        "id": "pSQyHNMQSRP6",
        "outputId": "07d52774-0c2f-4580-f081-9aaf805b789e"
      },
      "source": [
        "from sklearn.preprocessing import MinMaxScaler\n",
        "mm = MinMaxScaler()\n",
        "df[:-2] = mm.fit_transform(df[:-2])\n",
        "df.head(3)"
      ],
      "execution_count": 68,
      "outputs": [
        {
          "output_type": "execute_result",
          "data": {
            "text/html": [
              "<div>\n",
              "<style scoped>\n",
              "    .dataframe tbody tr th:only-of-type {\n",
              "        vertical-align: middle;\n",
              "    }\n",
              "\n",
              "    .dataframe tbody tr th {\n",
              "        vertical-align: top;\n",
              "    }\n",
              "\n",
              "    .dataframe thead th {\n",
              "        text-align: right;\n",
              "    }\n",
              "</style>\n",
              "<table border=\"1\" class=\"dataframe\">\n",
              "  <thead>\n",
              "    <tr style=\"text-align: right;\">\n",
              "      <th></th>\n",
              "      <th>1</th>\n",
              "      <th>2</th>\n",
              "      <th>3</th>\n",
              "      <th>4</th>\n",
              "      <th>5</th>\n",
              "      <th>6</th>\n",
              "      <th>7</th>\n",
              "      <th>8</th>\n",
              "      <th>9</th>\n",
              "      <th>10</th>\n",
              "      <th>11</th>\n",
              "      <th>12</th>\n",
              "      <th>13</th>\n",
              "      <th>14</th>\n",
              "      <th>15</th>\n",
              "      <th>16</th>\n",
              "      <th>17</th>\n",
              "      <th>18</th>\n",
              "      <th>19</th>\n",
              "      <th>20</th>\n",
              "      <th>21</th>\n",
              "      <th>22</th>\n",
              "      <th>23</th>\n",
              "      <th>24</th>\n",
              "      <th>25</th>\n",
              "      <th>26</th>\n",
              "      <th>27</th>\n",
              "      <th>28</th>\n",
              "      <th>29</th>\n",
              "      <th>30</th>\n",
              "      <th>31</th>\n",
              "      <th>32</th>\n",
              "      <th>33</th>\n",
              "      <th>34</th>\n",
              "      <th>35</th>\n",
              "      <th>36</th>\n",
              "      <th>37</th>\n",
              "      <th>38</th>\n",
              "      <th>39</th>\n",
              "      <th>40</th>\n",
              "      <th>41</th>\n",
              "      <th>42</th>\n",
              "      <th>43</th>\n",
              "      <th>44</th>\n",
              "      <th>45</th>\n",
              "      <th>46</th>\n",
              "      <th>47</th>\n",
              "      <th>48</th>\n",
              "      <th>49</th>\n",
              "      <th>50</th>\n",
              "      <th>51</th>\n",
              "      <th>52</th>\n",
              "      <th>53</th>\n",
              "      <th>54</th>\n",
              "      <th>55</th>\n",
              "      <th>56</th>\n",
              "      <th>57</th>\n",
              "      <th>58</th>\n",
              "    </tr>\n",
              "  </thead>\n",
              "  <tbody>\n",
              "    <tr>\n",
              "      <th>0</th>\n",
              "      <td>0.046256</td>\n",
              "      <td>0.019608</td>\n",
              "      <td>0.098039</td>\n",
              "      <td>0.0</td>\n",
              "      <td>0.014</td>\n",
              "      <td>0.047619</td>\n",
              "      <td>0.028886</td>\n",
              "      <td>0.006301</td>\n",
              "      <td>0.000000</td>\n",
              "      <td>0.051705</td>\n",
              "      <td>0.080460</td>\n",
              "      <td>0.081696</td>\n",
              "      <td>0.117117</td>\n",
              "      <td>0.021</td>\n",
              "      <td>0.031746</td>\n",
              "      <td>0.0070</td>\n",
              "      <td>0.009804</td>\n",
              "      <td>0.030803</td>\n",
              "      <td>0.185067</td>\n",
              "      <td>0.000000</td>\n",
              "      <td>0.143114</td>\n",
              "      <td>0.0</td>\n",
              "      <td>0.078899</td>\n",
              "      <td>0.0344</td>\n",
              "      <td>0.0</td>\n",
              "      <td>0.0</td>\n",
              "      <td>0.0</td>\n",
              "      <td>0.0</td>\n",
              "      <td>0.0</td>\n",
              "      <td>0.0</td>\n",
              "      <td>0.0</td>\n",
              "      <td>0.0</td>\n",
              "      <td>0.0</td>\n",
              "      <td>0.0</td>\n",
              "      <td>0.0</td>\n",
              "      <td>0.0</td>\n",
              "      <td>0.01016</td>\n",
              "      <td>0.0</td>\n",
              "      <td>0.0</td>\n",
              "      <td>0.000000</td>\n",
              "      <td>0.0</td>\n",
              "      <td>0.0</td>\n",
              "      <td>0.000000</td>\n",
              "      <td>0.0</td>\n",
              "      <td>0.000000</td>\n",
              "      <td>0.000000</td>\n",
              "      <td>0.0</td>\n",
              "      <td>0.0</td>\n",
              "      <td>0.000000</td>\n",
              "      <td>0.013536</td>\n",
              "      <td>0.0</td>\n",
              "      <td>0.011454</td>\n",
              "      <td>0.029985</td>\n",
              "      <td>0.002421</td>\n",
              "      <td>0.003735</td>\n",
              "      <td>0.010012</td>\n",
              "      <td>0.064836</td>\n",
              "      <td>1.0</td>\n",
              "    </tr>\n",
              "    <tr>\n",
              "      <th>1</th>\n",
              "      <td>0.013216</td>\n",
              "      <td>0.000000</td>\n",
              "      <td>0.139216</td>\n",
              "      <td>0.0</td>\n",
              "      <td>0.123</td>\n",
              "      <td>0.032313</td>\n",
              "      <td>0.026135</td>\n",
              "      <td>0.010801</td>\n",
              "      <td>0.121673</td>\n",
              "      <td>0.013751</td>\n",
              "      <td>0.145594</td>\n",
              "      <td>0.046536</td>\n",
              "      <td>0.021622</td>\n",
              "      <td>0.000</td>\n",
              "      <td>0.396825</td>\n",
              "      <td>0.0030</td>\n",
              "      <td>0.008403</td>\n",
              "      <td>0.113311</td>\n",
              "      <td>0.072533</td>\n",
              "      <td>0.017602</td>\n",
              "      <td>0.045905</td>\n",
              "      <td>0.0</td>\n",
              "      <td>0.212844</td>\n",
              "      <td>0.0048</td>\n",
              "      <td>0.0</td>\n",
              "      <td>0.0</td>\n",
              "      <td>0.0</td>\n",
              "      <td>0.0</td>\n",
              "      <td>0.0</td>\n",
              "      <td>0.0</td>\n",
              "      <td>0.0</td>\n",
              "      <td>0.0</td>\n",
              "      <td>0.0</td>\n",
              "      <td>0.0</td>\n",
              "      <td>0.0</td>\n",
              "      <td>0.0</td>\n",
              "      <td>0.00000</td>\n",
              "      <td>0.0</td>\n",
              "      <td>0.0</td>\n",
              "      <td>0.012605</td>\n",
              "      <td>0.0</td>\n",
              "      <td>0.0</td>\n",
              "      <td>0.033613</td>\n",
              "      <td>0.0</td>\n",
              "      <td>0.002801</td>\n",
              "      <td>0.002721</td>\n",
              "      <td>0.0</td>\n",
              "      <td>0.0</td>\n",
              "      <td>0.002281</td>\n",
              "      <td>0.014664</td>\n",
              "      <td>0.0</td>\n",
              "      <td>0.008498</td>\n",
              "      <td>0.030651</td>\n",
              "      <td>0.000504</td>\n",
              "      <td>0.008008</td>\n",
              "      <td>0.048458</td>\n",
              "      <td>0.142551</td>\n",
              "      <td>1.0</td>\n",
              "    </tr>\n",
              "    <tr>\n",
              "      <th>2</th>\n",
              "      <td>0.000000</td>\n",
              "      <td>0.000000</td>\n",
              "      <td>0.000000</td>\n",
              "      <td>0.0</td>\n",
              "      <td>0.063</td>\n",
              "      <td>0.000000</td>\n",
              "      <td>0.042641</td>\n",
              "      <td>0.056706</td>\n",
              "      <td>0.058935</td>\n",
              "      <td>0.034653</td>\n",
              "      <td>0.118774</td>\n",
              "      <td>0.032058</td>\n",
              "      <td>0.055856</td>\n",
              "      <td>0.000</td>\n",
              "      <td>0.000000</td>\n",
              "      <td>0.0155</td>\n",
              "      <td>0.000000</td>\n",
              "      <td>0.000000</td>\n",
              "      <td>0.169600</td>\n",
              "      <td>0.000000</td>\n",
              "      <td>0.027903</td>\n",
              "      <td>0.0</td>\n",
              "      <td>0.000000</td>\n",
              "      <td>0.0000</td>\n",
              "      <td>0.0</td>\n",
              "      <td>0.0</td>\n",
              "      <td>0.0</td>\n",
              "      <td>0.0</td>\n",
              "      <td>0.0</td>\n",
              "      <td>0.0</td>\n",
              "      <td>0.0</td>\n",
              "      <td>0.0</td>\n",
              "      <td>0.0</td>\n",
              "      <td>0.0</td>\n",
              "      <td>0.0</td>\n",
              "      <td>0.0</td>\n",
              "      <td>0.00000</td>\n",
              "      <td>0.0</td>\n",
              "      <td>0.0</td>\n",
              "      <td>0.000000</td>\n",
              "      <td>0.0</td>\n",
              "      <td>0.0</td>\n",
              "      <td>0.000000</td>\n",
              "      <td>0.0</td>\n",
              "      <td>0.000000</td>\n",
              "      <td>0.000000</td>\n",
              "      <td>0.0</td>\n",
              "      <td>0.0</td>\n",
              "      <td>0.000000</td>\n",
              "      <td>0.014048</td>\n",
              "      <td>0.0</td>\n",
              "      <td>0.004218</td>\n",
              "      <td>0.000000</td>\n",
              "      <td>0.000000</td>\n",
              "      <td>0.002303</td>\n",
              "      <td>0.003905</td>\n",
              "      <td>0.011995</td>\n",
              "      <td>1.0</td>\n",
              "    </tr>\n",
              "  </tbody>\n",
              "</table>\n",
              "</div>"
            ],
            "text/plain": [
              "         1         2         3    4   ...        55        56        57   58\n",
              "0  0.046256  0.019608  0.098039  0.0  ...  0.003735  0.010012  0.064836  1.0\n",
              "1  0.013216  0.000000  0.139216  0.0  ...  0.008008  0.048458  0.142551  1.0\n",
              "2  0.000000  0.000000  0.000000  0.0  ...  0.002303  0.003905  0.011995  1.0\n",
              "\n",
              "[3 rows x 58 columns]"
            ]
          },
          "metadata": {
            "tags": []
          },
          "execution_count": 68
        }
      ]
    },
    {
      "cell_type": "code",
      "metadata": {
        "colab": {
          "base_uri": "https://localhost:8080/"
        },
        "id": "BkJDXNuEQgag",
        "outputId": "0ec900f6-be06-4af7-e93d-5ebd0c5ac8f6"
      },
      "source": [
        "df[\"Class\"].value_counts()"
      ],
      "execution_count": 10,
      "outputs": [
        {
          "output_type": "execute_result",
          "data": {
            "text/plain": [
              "0.0    2788\n",
              "1.0    1812\n",
              "Name: Class, dtype: int64"
            ]
          },
          "metadata": {
            "tags": []
          },
          "execution_count": 10
        }
      ]
    },
    {
      "cell_type": "code",
      "metadata": {
        "colab": {
          "base_uri": "https://localhost:8080/",
          "height": 401
        },
        "id": "W6fTIzEtQgai",
        "outputId": "6ecd458c-7c1a-48f1-ee47-07f76272d4e2"
      },
      "source": [
        "sns.catplot(data=df,x=\"Class\",kind=\"count\")"
      ],
      "execution_count": null,
      "outputs": [
        {
          "output_type": "execute_result",
          "data": {
            "text/plain": [
              "<seaborn.axisgrid.FacetGrid at 0x7feab0e48150>"
            ]
          },
          "metadata": {
            "tags": []
          },
          "execution_count": 67
        },
        {
          "output_type": "display_data",
          "data": {
            "image/png": "[encoded data removed]",
            "text/plain": [
              "<Figure size 360x360 with 1 Axes>"
            ]
          },
          "metadata": {
            "tags": [],
            "needs_background": "light"
          }
        }
      ]
    },
    {
      "cell_type": "markdown",
      "metadata": {
        "id": "6vtGBQfng8Q3"
      },
      "source": [
        "### from the above plot both bars not having huge difference between two classes."
      ]
    },
    {
      "cell_type": "code",
      "metadata": {
        "id": "BmZTZD3DQgaj"
      },
      "source": [
        "# asign the x and y\n",
        "x=df.drop(columns=58)\n",
        "y=df[58]"
      ],
      "execution_count": 69,
      "outputs": []
    },
    {
      "cell_type": "code",
      "metadata": {
        "id": "nIDiwvGfQgak"
      },
      "source": [
        "# split the data\n",
        "from sklearn.model_selection import train_test_split\n",
        "xtrain,xtest,ytrain,ytest=train_test_split(x,y,test_size=0.2,random_state=1)"
      ],
      "execution_count": 70,
      "outputs": []
    },
    {
      "cell_type": "markdown",
      "metadata": {
        "id": "rCNXtKbMQgau"
      },
      "source": [
        "### models"
      ]
    },
    {
      "cell_type": "markdown",
      "metadata": {
        "id": "Bo6JNernQgav"
      },
      "source": [
        "# 1) LogesticRegression"
      ]
    },
    {
      "cell_type": "code",
      "metadata": {
        "id": "pg2FNXvUQgav"
      },
      "source": [
        "from sklearn.linear_model import LogisticRegression\n",
        "model=LogisticRegression()\n",
        "model.fit(xtrain,ytrain)\n",
        "ypred=model.predict(xtest)"
      ],
      "execution_count": 71,
      "outputs": []
    },
    {
      "cell_type": "code",
      "metadata": {
        "colab": {
          "base_uri": "https://localhost:8080/",
          "height": 485
        },
        "id": "7pb4PSIIQgax",
        "scrolled": true,
        "outputId": "15d75ee8-1ad1-4836-a29c-9d1c06eda8b3"
      },
      "source": [
        "from sklearn.metrics import confusion_matrix,classification_report,accuracy_score\n",
        "from sklearn.metrics import precision_recall_fscore_support as score\n",
        "acc=accuracy_score(ytest,ypred)\n",
        "print(\"Accuracy is :\",acc)\n",
        "cm=confusion_matrix(ytest,ypred)\n",
        "print(cm)\n",
        "print(classification_report(ytest,ypred))\n",
        "sns.heatmap(cm,annot=True)\n",
        "\n",
        "plt.show()"
      ],
      "execution_count": 23,
      "outputs": [
        {
          "output_type": "stream",
          "text": [
            "Accuracy is : 0.7869565217391304\n",
            "[[381 182]\n",
            " [ 14 343]]\n",
            "              precision    recall  f1-score   support\n",
            "\n",
            "         0.0       0.96      0.68      0.80       563\n",
            "         1.0       0.65      0.96      0.78       357\n",
            "\n",
            "    accuracy                           0.79       920\n",
            "   macro avg       0.81      0.82      0.79       920\n",
            "weighted avg       0.84      0.79      0.79       920\n",
            "\n"
          ],
          "name": "stdout"
        },
        {
          "output_type": "display_data",
          "data": {
            "image/png": "[encoded data removed]",
            "text/plain": [
              "<Figure size 432x288 with 2 Axes>"
            ]
          },
          "metadata": {
            "tags": [],
            "needs_background": "light"
          }
        }
      ]
    },
    {
      "cell_type": "markdown",
      "metadata": {
        "id": "0KCxDr_Sg8RF"
      },
      "source": [
        "Here by Using Logistic Regression we got the accuracy 0.899022.\n",
        "to get the better accuracy we go with 'Hyper Parameter Tunning'."
      ]
    },
    {
      "cell_type": "markdown",
      "metadata": {
        "id": "v3DYs3CwQgay"
      },
      "source": [
        "### hyper parameter tunning of logesticRegression"
      ]
    },
    {
      "cell_type": "code",
      "metadata": {
        "colab": {
          "base_uri": "https://localhost:8080/"
        },
        "id": "PwgGOfOdQga0",
        "outputId": "69ace1b9-80eb-4287-9418-84623fe760aa"
      },
      "source": [
        "#model \n",
        "import warnings\n",
        "warnings.filterwarnings(\"ignore\")\n",
        "model=LogisticRegression()\n",
        "#Parameters\n",
        "penalty =['l1', 'l2', 'elasticnet']\n",
        "C=[10,1,0.1,0.001,0.0001]\n",
        "solver=['newton-cg', 'lbfgs', 'liblinear', 'sag', 'saga']\n",
        "#grid \n",
        "grid=dict(solver=solver,C=C,penalty=penalty)\n",
        "#cv \n",
        "from sklearn.model_selection import RepeatedStratifiedKFold\n",
        "cv=RepeatedStratifiedKFold(n_splits=10,n_repeats=3,random_state=1)\n",
        "#Grid Search cv\n",
        "from sklearn.model_selection import GridSearchCV\n",
        "gridcv=GridSearchCV(estimator=model,param_grid=grid,cv=cv,scoring=\"accuracy\",error_score=0)\n",
        "result=gridcv.fit(x,y)\n",
        "print(result.best_score_)\n",
        "print(result.best_params_)"
      ],
      "execution_count": null,
      "outputs": [
        {
          "output_type": "stream",
          "text": [
            "0.9243662171083656\n",
            "{'C': 10, 'penalty': 'l1', 'solver': 'liblinear'}\n"
          ],
          "name": "stdout"
        }
      ]
    },
    {
      "cell_type": "markdown",
      "metadata": {
        "id": "OrWae_fXg8RL"
      },
      "source": [
        "Here by Hyper Parameter Tunning we got the accuracy 0.924366 with the best parameter"
      ]
    },
    {
      "cell_type": "markdown",
      "metadata": {
        "id": "j78ZD6eNQga4"
      },
      "source": [
        "### Retraining the logistic regression model on best parameters"
      ]
    },
    {
      "cell_type": "code",
      "metadata": {
        "id": "R6djFKJEQga5"
      },
      "source": [
        "model=LogisticRegression(C= 10, penalty= 'l1', solver='liblinear')\n",
        "model.fit(xtrain,ytrain)\n",
        "ypred=model.predict(xtest)"
      ],
      "execution_count": 72,
      "outputs": []
    },
    {
      "cell_type": "code",
      "metadata": {
        "colab": {
          "base_uri": "https://localhost:8080/",
          "height": 485
        },
        "id": "Nf7ytpnPQga7",
        "outputId": "669b92d9-b156-45f7-ce98-a6af6abf6b1e"
      },
      "source": [
        "#Model Evaluation \n",
        "lr_pre,lr_recall,lr_fsc,support=score(ytest,ypred,average='macro')\n",
        "lr_acc=accuracy_score(ytest,ypred)\n",
        "print(\"Accuracy is :\",acc)\n",
        "cm=confusion_matrix(ytest,ypred)\n",
        "print(cm)\n",
        "sns.heatmap(cm,annot=True)\n",
        "print(classification_report(ytest,ypred))"
      ],
      "execution_count": 73,
      "outputs": [
        {
          "output_type": "stream",
          "text": [
            "Accuracy is : 0.9510869565217391\n",
            "[[534  29]\n",
            " [ 44 313]]\n",
            "              precision    recall  f1-score   support\n",
            "\n",
            "         0.0       0.92      0.95      0.94       563\n",
            "         1.0       0.92      0.88      0.90       357\n",
            "\n",
            "    accuracy                           0.92       920\n",
            "   macro avg       0.92      0.91      0.92       920\n",
            "weighted avg       0.92      0.92      0.92       920\n",
            "\n"
          ],
          "name": "stdout"
        },
        {
          "output_type": "display_data",
          "data": {
            "image/png": "[encoded data removed]",
            "text/plain": [
              "<Figure size 432x288 with 2 Axes>"
            ]
          },
          "metadata": {
            "tags": [],
            "needs_background": "light"
          }
        }
      ]
    },
    {
      "cell_type": "markdown",
      "metadata": {
        "id": "By_cKdhig8RO"
      },
      "source": [
        "Retraining the logistic regression model on best parameters Accuracy is : 0.8990228013029316"
      ]
    },
    {
      "cell_type": "markdown",
      "metadata": {
        "id": "OlV3fgGPQga7"
      },
      "source": [
        "# 2)Naive Bayes classification"
      ]
    },
    {
      "cell_type": "code",
      "metadata": {
        "id": "d46OL1GzQga9"
      },
      "source": [
        "from sklearn.naive_bayes import GaussianNB\n",
        "Gmodel=GaussianNB()\n",
        "Gmodel.fit(xtrain,ytrain)\n",
        "ypred=Gmodel.predict(xtest)"
      ],
      "execution_count": 74,
      "outputs": []
    },
    {
      "cell_type": "code",
      "metadata": {
        "colab": {
          "base_uri": "https://localhost:8080/",
          "height": 467
        },
        "id": "eJzRzVIxQga-",
        "outputId": "7a5b4c95-094e-4079-c121-07736b5189da"
      },
      "source": [
        "#Model Evaluation \n",
        "NB_pre,NB_recall,NB_fsc,support=score(ytest,ypred,average='macro')\n",
        "NB_acc = accuracy_score(ytest,ypred)\n",
        "print(\"Accuracy is :\",accuracy_score(ytest,ypred))\n",
        "print(classification_report(ytest,ypred))\n",
        "cm=confusion_matrix(ytest,ypred)\n",
        "sns.heatmap(cm,annot=True)"
      ],
      "execution_count": 75,
      "outputs": [
        {
          "output_type": "stream",
          "text": [
            "Accuracy is : 0.7869565217391304\n",
            "              precision    recall  f1-score   support\n",
            "\n",
            "         0.0       0.96      0.68      0.80       563\n",
            "         1.0       0.65      0.96      0.78       357\n",
            "\n",
            "    accuracy                           0.79       920\n",
            "   macro avg       0.81      0.82      0.79       920\n",
            "weighted avg       0.84      0.79      0.79       920\n",
            "\n"
          ],
          "name": "stdout"
        },
        {
          "output_type": "execute_result",
          "data": {
            "text/plain": [
              "<matplotlib.axes._subplots.AxesSubplot at 0x7f4e6abffb90>"
            ]
          },
          "metadata": {
            "tags": []
          },
          "execution_count": 75
        },
        {
          "output_type": "display_data",
          "data": {
            "image/png": "[encoded data removed]",
            "text/plain": [
              "<Figure size 432x288 with 2 Axes>"
            ]
          },
          "metadata": {
            "tags": [],
            "needs_background": "light"
          }
        }
      ]
    },
    {
      "cell_type": "markdown",
      "metadata": {
        "id": "3G8fbHRKg8RS"
      },
      "source": [
        "After the performing Naive Bayes classification we got the accuracy is 0.7926167209554832"
      ]
    },
    {
      "cell_type": "markdown",
      "metadata": {
        "id": "KOYOcOF-QgbB"
      },
      "source": [
        "# 3) Support Vector Machines"
      ]
    },
    {
      "cell_type": "code",
      "metadata": {
        "id": "cD3Lc9oFQgbC"
      },
      "source": [
        "from sklearn.svm import SVC\n",
        "model=SVC()\n",
        "model.fit(xtrain,ytrain)\n",
        "ypred=model.predict(xtest)"
      ],
      "execution_count": 27,
      "outputs": []
    },
    {
      "cell_type": "code",
      "metadata": {
        "colab": {
          "base_uri": "https://localhost:8080/",
          "height": 467
        },
        "id": "LrrXU9HvQgbD",
        "outputId": "3d5b367a-6359-4051-ae65-b69ca9a4562e"
      },
      "source": [
        "#evalution\n",
        "acc=accuracy_score(ytest,ypred)\n",
        "print(\"Accuracy is: \",acc)\n",
        "print(classification_report(ytest,ypred))\n",
        "cm=confusion_matrix(ytest,ypred)\n",
        "sns.heatmap(cm,annot=True)"
      ],
      "execution_count": null,
      "outputs": [
        {
          "output_type": "stream",
          "text": [
            "Accuracy is:  0.9207383279044516\n",
            "              precision    recall  f1-score   support\n",
            "\n",
            "         0.0       0.90      0.98      0.94       564\n",
            "         1.0       0.96      0.83      0.89       357\n",
            "\n",
            "    accuracy                           0.92       921\n",
            "   macro avg       0.93      0.90      0.91       921\n",
            "weighted avg       0.92      0.92      0.92       921\n",
            "\n"
          ],
          "name": "stdout"
        },
        {
          "output_type": "execute_result",
          "data": {
            "text/plain": [
              "<matplotlib.axes._subplots.AxesSubplot at 0x7feaa01e6110>"
            ]
          },
          "metadata": {
            "tags": []
          },
          "execution_count": 78
        },
        {
          "output_type": "display_data",
          "data": {
            "image/png": "[encoded data removed]",
            "text/plain": [
              "<Figure size 432x288 with 2 Axes>"
            ]
          },
          "metadata": {
            "tags": [],
            "needs_background": "light"
          }
        }
      ]
    },
    {
      "cell_type": "markdown",
      "metadata": {
        "id": "VJT3Ak2jg8RV"
      },
      "source": [
        "After Performing the Support Vector Machines algorithm Accuracy is:  0.9207383279044516"
      ]
    },
    {
      "cell_type": "markdown",
      "metadata": {
        "id": "5jLOTMFnQgbD"
      },
      "source": [
        "### hyper parameter tunning of SVM"
      ]
    },
    {
      "cell_type": "code",
      "metadata": {
        "colab": {
          "base_uri": "https://localhost:8080/"
        },
        "id": "CdQSpev9QgbF",
        "outputId": "1960a420-3777-4e5a-a6bc-2b96aa2fe74e"
      },
      "source": [
        "#model\n",
        "model=SVC()\n",
        "#parameters\n",
        "kernel=['linear','poly','rbf','sigmoid']\n",
        "C=[1,0.1,0.01,0.001]\n",
        "gamma=['scale', 'auto']\n",
        "#grid\n",
        "grid=dict(kernel=kernel,C=C,gamma=gamma)\n",
        "#cv\n",
        "from sklearn.model_selection import RepeatedStratifiedKFold\n",
        "cv=RepeatedStratifiedKFold(n_splits=5,n_repeats=3,random_state=1)\n",
        "from sklearn.model_selection import GridSearchCV\n",
        "grid_cv=GridSearchCV(estimator=model,param_grid=grid,cv=cv,scoring=\"accuracy\")\n",
        "#result\n",
        "res=grid_cv.fit(xtrain,ytrain)\n",
        "print(res.best_params_)\n",
        "print(res.best_score_)"
      ],
      "execution_count": null,
      "outputs": [
        {
          "output_type": "stream",
          "text": [
            "{'C': 1, 'gamma': 'scale', 'kernel': 'rbf'}\n",
            "0.9031702898550723\n"
          ],
          "name": "stdout"
        }
      ]
    },
    {
      "cell_type": "markdown",
      "metadata": {
        "id": "zwmQkXOkg8RX"
      },
      "source": [
        "After the hyper parameter tunning of SVM we get best parameter 'C': 1, 'gamma': 'scale', 'kernel': 'rbf' with accuracy is 0.9031702898550723"
      ]
    },
    {
      "cell_type": "markdown",
      "metadata": {
        "id": "E0hBiz7YQgbF"
      },
      "source": [
        "### Retraining the SVM model on best parameters "
      ]
    },
    {
      "cell_type": "code",
      "metadata": {
        "id": "kCcoM0G5QgbG"
      },
      "source": [
        "# For best parameter\n",
        "from sklearn.svm import SVC\n",
        "model=SVC(C= 1, gamma='scale', kernel='rbf')\n",
        "model.fit(xtrain,ytrain)\n",
        "ypred=model.predict(xtest)"
      ],
      "execution_count": 76,
      "outputs": []
    },
    {
      "cell_type": "code",
      "metadata": {
        "colab": {
          "base_uri": "https://localhost:8080/",
          "height": 467
        },
        "id": "gwOaiknCQgbI",
        "outputId": "8c68900a-f6a8-4c1e-aa39-4b90e6f89b21"
      },
      "source": [
        "#Model Evaluation \n",
        "SVM_pre,SVM_recall,SVM_fsc,support=score(ytest,ypred,average='macro')\n",
        "SVM_acc = accuracy_score(ytest,ypred)\n",
        "acc=accuracy_score(ytest,ypred)\n",
        "print(\"Accuracy is: \",acc)\n",
        "print(classification_report(ytest,ypred))\n",
        "cm=confusion_matrix(ytest,ypred)\n",
        "sns.heatmap(cm,annot=True)"
      ],
      "execution_count": 77,
      "outputs": [
        {
          "output_type": "stream",
          "text": [
            "Accuracy is:  0.9043478260869565\n",
            "              precision    recall  f1-score   support\n",
            "\n",
            "         0.0       0.89      0.96      0.92       563\n",
            "         1.0       0.93      0.82      0.87       357\n",
            "\n",
            "    accuracy                           0.90       920\n",
            "   macro avg       0.91      0.89      0.90       920\n",
            "weighted avg       0.91      0.90      0.90       920\n",
            "\n"
          ],
          "name": "stdout"
        },
        {
          "output_type": "execute_result",
          "data": {
            "text/plain": [
              "<matplotlib.axes._subplots.AxesSubplot at 0x7f4e6ab97690>"
            ]
          },
          "metadata": {
            "tags": []
          },
          "execution_count": 77
        },
        {
          "output_type": "display_data",
          "data": {
            "image/png": "[encoded data removed]",
            "text/plain": [
              "<Figure size 432x288 with 2 Axes>"
            ]
          },
          "metadata": {
            "tags": [],
            "needs_background": "light"
          }
        }
      ]
    },
    {
      "cell_type": "markdown",
      "metadata": {
        "id": "UAlYO4V8g8Rb"
      },
      "source": [
        "After the Retraining the logistic regression model on best parameters Accuracy is:  0.9207383279044516"
      ]
    },
    {
      "cell_type": "markdown",
      "metadata": {
        "id": "HD8T2y6FQgbI"
      },
      "source": [
        "# 4) KNN"
      ]
    },
    {
      "cell_type": "code",
      "metadata": {
        "id": "xCHQHdgTQgbJ"
      },
      "source": [
        "from sklearn.neighbors import KNeighborsClassifier\n",
        "model=KNeighborsClassifier(n_neighbors=5)\n",
        "model.fit(xtrain,ytrain)\n",
        "ypred=model.predict(xtest)"
      ],
      "execution_count": 30,
      "outputs": []
    },
    {
      "cell_type": "code",
      "metadata": {
        "colab": {
          "base_uri": "https://localhost:8080/",
          "height": 467
        },
        "id": "EI9LWzgQQgbL",
        "outputId": "f9ce7fbd-f0f7-4c55-d849-5dc51b0f28bb"
      },
      "source": [
        "#Model Evaluation \n",
        "acc=accuracy_score(ytest,ypred)\n",
        "print(\"Accuracy is: \",acc)\n",
        "print(classification_report(ytest,ypred))\n",
        "cm=confusion_matrix(ytest,ypred)\n",
        "sns.heatmap(cm,annot=True)"
      ],
      "execution_count": 33,
      "outputs": [
        {
          "output_type": "stream",
          "text": [
            "Accuracy is:  0.925\n",
            "              precision    recall  f1-score   support\n",
            "\n",
            "         0.0       0.92      0.96      0.94       563\n",
            "         1.0       0.94      0.86      0.90       357\n",
            "\n",
            "    accuracy                           0.93       920\n",
            "   macro avg       0.93      0.91      0.92       920\n",
            "weighted avg       0.93      0.93      0.92       920\n",
            "\n"
          ],
          "name": "stdout"
        },
        {
          "output_type": "execute_result",
          "data": {
            "text/plain": [
              "<matplotlib.axes._subplots.AxesSubplot at 0x7f4e7f2b1790>"
            ]
          },
          "metadata": {
            "tags": []
          },
          "execution_count": 33
        },
        {
          "output_type": "display_data",
          "data": {
            "image/png": "[encoded data removed]",
            "text/plain": [
              "<Figure size 432x288 with 2 Axes>"
            ]
          },
          "metadata": {
            "tags": [],
            "needs_background": "light"
          }
        }
      ]
    },
    {
      "cell_type": "markdown",
      "metadata": {
        "id": "5CozEUX4g8Rd"
      },
      "source": [
        "using the KNN algorithm Accuracy is:  0.8946796959826275"
      ]
    },
    {
      "cell_type": "markdown",
      "metadata": {
        "id": "d0taTTwpQgbL"
      },
      "source": [
        "### hyper parameter tunning of KNN"
      ]
    },
    {
      "cell_type": "code",
      "metadata": {
        "id": "TSN8zot9QgbM",
        "colab": {
          "base_uri": "https://localhost:8080/"
        },
        "outputId": "3dabb2bf-59e1-4ea7-e57f-b48fa5af7865"
      },
      "source": [
        "#model \n",
        "model=KNeighborsClassifier()\n",
        "#parameter grid\n",
        "#1. n_neighbors \n",
        "#2.weights\n",
        "#3.Metric\n",
        "n_neighbors=range(1,31)\n",
        "weights =['uniform', 'distance']\n",
        "metric=[\"minkowski\",\"euclidean\",\"manhattan\"]\n",
        "grid=dict(n_neighbors=n_neighbors,weights=weights,metric=metric)\n",
        "#cv\n",
        "from sklearn.model_selection import RepeatedStratifiedKFold\n",
        "cv=RepeatedStratifiedKFold(n_splits=5,n_repeats=3,random_state=1)\n",
        "#GridSearchCV\n",
        "from sklearn.model_selection import GridSearchCV\n",
        "grid_cv=GridSearchCV(estimator=model,param_grid=grid,cv=cv,scoring=\"accuracy\")\n",
        "res=grid_cv.fit(xtrain,ytrain)\n",
        "print(res.best_params_)\n",
        "print(res.best_score_)"
      ],
      "execution_count": 78,
      "outputs": [
        {
          "output_type": "stream",
          "text": [
            "{'metric': 'manhattan', 'n_neighbors': 6, 'weights': 'distance'}\n",
            "0.9193840579710144\n"
          ],
          "name": "stdout"
        }
      ]
    },
    {
      "cell_type": "markdown",
      "metadata": {
        "id": "G28Ip1FXQgbO"
      },
      "source": [
        "### Retraining the KNN model on best parameters"
      ]
    },
    {
      "cell_type": "code",
      "metadata": {
        "id": "H1QZNq2IQgbO"
      },
      "source": [
        "from sklearn.neighbors import KNeighborsClassifier\n",
        "model=KNeighborsClassifier(n_neighbors=10,metric='manhattan',weights='distance')\n",
        "model.fit(xtrain,ytrain)\n",
        "ypred=model.predict(xtest)"
      ],
      "execution_count": 79,
      "outputs": []
    },
    {
      "cell_type": "code",
      "metadata": {
        "colab": {
          "base_uri": "https://localhost:8080/",
          "height": 467
        },
        "id": "DzOkc--0QgbO",
        "outputId": "88c7fb77-d2f0-4b32-b9e1-3a6eb09e2dcc"
      },
      "source": [
        "#Model Evaluation \n",
        "KNN_pre,KNN_recall,KNN_fsc,support=score(ytest,ypred,average='macro')\n",
        "KNN_acc = accuracy_score(ytest,ypred)\n",
        "acc=accuracy_score(ytest,ypred)\n",
        "print(\"Accuracy is: \",acc)\n",
        "print(classification_report(ytest,ypred))\n",
        "cm=confusion_matrix(ytest,ypred)\n",
        "sns.heatmap(cm,annot=True)"
      ],
      "execution_count": 80,
      "outputs": [
        {
          "output_type": "stream",
          "text": [
            "Accuracy is:  0.925\n",
            "              precision    recall  f1-score   support\n",
            "\n",
            "         0.0       0.92      0.96      0.94       563\n",
            "         1.0       0.94      0.86      0.90       357\n",
            "\n",
            "    accuracy                           0.93       920\n",
            "   macro avg       0.93      0.91      0.92       920\n",
            "weighted avg       0.93      0.93      0.92       920\n",
            "\n"
          ],
          "name": "stdout"
        },
        {
          "output_type": "execute_result",
          "data": {
            "text/plain": [
              "<matplotlib.axes._subplots.AxesSubplot at 0x7f4e6a91d850>"
            ]
          },
          "metadata": {
            "tags": []
          },
          "execution_count": 80
        },
        {
          "output_type": "display_data",
          "data": {
            "image/png": "[encoded data removed]",
            "text/plain": [
              "<Figure size 432x288 with 2 Axes>"
            ]
          },
          "metadata": {
            "tags": [],
            "needs_background": "light"
          }
        }
      ]
    },
    {
      "cell_type": "markdown",
      "metadata": {
        "id": "iTrAwIUgg8Rh"
      },
      "source": [
        "Retraining the logistic regression model on best parameters Accuracy is:  0.9163952225841476"
      ]
    },
    {
      "cell_type": "markdown",
      "metadata": {
        "id": "sgvqp1SCQgbQ"
      },
      "source": [
        "# 5)Decision Tree"
      ]
    },
    {
      "cell_type": "code",
      "metadata": {
        "id": "bTRhfrElQgbR"
      },
      "source": [
        "from sklearn.tree import DecisionTreeClassifier\n",
        "model=DecisionTreeClassifier()\n",
        "model.fit(xtrain,ytrain)\n",
        "ypred=model.predict(xtest)"
      ],
      "execution_count": 36,
      "outputs": []
    },
    {
      "cell_type": "code",
      "metadata": {
        "colab": {
          "base_uri": "https://localhost:8080/",
          "height": 467
        },
        "id": "27WfrOL2QgbR",
        "outputId": "030a1d15-2569-4f62-c57f-d252ec73c64e"
      },
      "source": [
        "# evaluation\n",
        "acc=accuracy_score(ytest,ypred)\n",
        "print(\"Accuracy is: \",acc)\n",
        "print(classification_report(ytest,ypred))\n",
        "cm=confusion_matrix(ytest,ypred)\n",
        "sns.heatmap(cm,annot=True)\n"
      ],
      "execution_count": null,
      "outputs": [
        {
          "output_type": "stream",
          "text": [
            "Accuracy is:  0.9174809989142236\n",
            "              precision    recall  f1-score   support\n",
            "\n",
            "         0.0       0.93      0.93      0.93       564\n",
            "         1.0       0.90      0.89      0.89       357\n",
            "\n",
            "    accuracy                           0.92       921\n",
            "   macro avg       0.91      0.91      0.91       921\n",
            "weighted avg       0.92      0.92      0.92       921\n",
            "\n"
          ],
          "name": "stdout"
        },
        {
          "output_type": "execute_result",
          "data": {
            "text/plain": [
              "<matplotlib.axes._subplots.AxesSubplot at 0x7fea8eb2f310>"
            ]
          },
          "metadata": {
            "tags": []
          },
          "execution_count": 86
        },
        {
          "output_type": "display_data",
          "data": {
            "image/png": "[encoded data removed]",
            "text/plain": [
              "<Figure size 432x288 with 2 Axes>"
            ]
          },
          "metadata": {
            "tags": [],
            "needs_background": "light"
          }
        }
      ]
    },
    {
      "cell_type": "markdown",
      "metadata": {
        "id": "3hdcnkA_g8Rk"
      },
      "source": [
        "Using Decision Tree Algorithm Accuracy is:  0.9174809989142236"
      ]
    },
    {
      "cell_type": "markdown",
      "metadata": {
        "id": "xnOSSLoaQgbS"
      },
      "source": [
        "### hyper parameter tunning of DecisionTree"
      ]
    },
    {
      "cell_type": "code",
      "metadata": {
        "id": "nzha84BXQgbT"
      },
      "source": [
        "#model\n",
        "model=DecisionTreeClassifier()\n",
        "criterion =[\"gini\", \"entropy\"]\n",
        "splitter =[\"best\", \"random\"]\n",
        "max_features = [\"auto\", \"sqrt\", \"log2\"]\n",
        "max_depth=range(1,11)\n",
        "#parameters\n",
        "grid=dict(criterion=criterion,splitter=splitter,max_depth=max_depth,max_features=max_features)\n",
        "#cv\n",
        "from sklearn.model_selection import RepeatedStratifiedKFold\n",
        "cv=RepeatedStratifiedKFold(n_splits=10,n_repeats=3,random_state=1)\n",
        "#Grid Search CV\n",
        "from sklearn.model_selection import GridSearchCV\n",
        "grid_cv=GridSearchCV(estimator=model,param_grid=grid,cv=cv,scoring=\"accuracy\")\n",
        "res=grid_cv.fit(xtrain,ytrain)\n",
        "print(res.best_params_)\n",
        "print(res.best_score_)"
      ],
      "execution_count": null,
      "outputs": []
    },
    {
      "cell_type": "markdown",
      "metadata": {
        "id": "D0qBhgpVQgbU"
      },
      "source": [
        "### Retraining the model on best parameter  "
      ]
    },
    {
      "cell_type": "code",
      "metadata": {
        "id": "nunWmXYLQgbW"
      },
      "source": [
        "from sklearn.tree import DecisionTreeClassifier\n",
        "model=DecisionTreeClassifier(criterion='gini', max_depth=10, max_features='sqrt', splitter='best')\n",
        "model.fit(xtrain,ytrain)\n",
        "ypred=model.predict(xtest)"
      ],
      "execution_count": 81,
      "outputs": []
    },
    {
      "cell_type": "code",
      "metadata": {
        "colab": {
          "base_uri": "https://localhost:8080/",
          "height": 467
        },
        "id": "4qNJvPuDQgbW",
        "outputId": "04fd1bbb-550b-4d28-b044-ffe681731d57"
      },
      "source": [
        "#Model Evaluation \n",
        "DT_pre,DT_recall,DT_fsc,support=score(ytest,ypred,average='macro')\n",
        "DT_acc = accuracy_score(ytest,ypred)\n",
        "acc=accuracy_score(ytest,ypred)\n",
        "print(\"Accuracy is: \",acc)\n",
        "print(classification_report(ytest,ypred))\n",
        "cm=confusion_matrix(ytest,ypred)\n",
        "sns.heatmap(cm,annot=True)"
      ],
      "execution_count": 82,
      "outputs": [
        {
          "output_type": "stream",
          "text": [
            "Accuracy is:  0.8804347826086957\n",
            "              precision    recall  f1-score   support\n",
            "\n",
            "         0.0       0.89      0.91      0.90       563\n",
            "         1.0       0.86      0.83      0.84       357\n",
            "\n",
            "    accuracy                           0.88       920\n",
            "   macro avg       0.88      0.87      0.87       920\n",
            "weighted avg       0.88      0.88      0.88       920\n",
            "\n"
          ],
          "name": "stdout"
        },
        {
          "output_type": "execute_result",
          "data": {
            "text/plain": [
              "<matplotlib.axes._subplots.AxesSubplot at 0x7f4e6ab97450>"
            ]
          },
          "metadata": {
            "tags": []
          },
          "execution_count": 82
        },
        {
          "output_type": "display_data",
          "data": {
            "image/png": "[encoded data removed]",
            "text/plain": [
              "<Figure size 432x288 with 2 Axes>"
            ]
          },
          "metadata": {
            "tags": [],
            "needs_background": "light"
          }
        }
      ]
    },
    {
      "cell_type": "markdown",
      "metadata": {
        "id": "zHv5eeKUg8Rp"
      },
      "source": [
        "Retraining the model on best parameter Accuracy is:  0.8957654723127035"
      ]
    },
    {
      "cell_type": "markdown",
      "metadata": {
        "id": "MLUS_xdsQgbX"
      },
      "source": [
        "# 6) Ensemble Learning"
      ]
    },
    {
      "cell_type": "markdown",
      "metadata": {
        "id": "H2tuycI6QgbY"
      },
      "source": [
        "## 1) Bagging Metaestimator"
      ]
    },
    {
      "cell_type": "code",
      "metadata": {
        "id": "i90ucqY4QgbZ"
      },
      "source": [
        "from sklearn.ensemble import BaggingClassifier\n",
        "model=BaggingClassifier()\n",
        "model.fit(xtrain,ytrain)\n",
        "ypred=model.predict(xtest)"
      ],
      "execution_count": 39,
      "outputs": []
    },
    {
      "cell_type": "code",
      "metadata": {
        "colab": {
          "base_uri": "https://localhost:8080/",
          "height": 467
        },
        "id": "H3O6BmQvQgba",
        "outputId": "4ea25f69-1eda-4801-a932-4dd36a93931d"
      },
      "source": [
        "#Model Evaluation \n",
        "print(\"accuracy is :\",accuracy_score(ytest,ypred))\n",
        "print(classification_report(ytest,ypred))\n",
        "cm=confusion_matrix(ytest,ypred)\n",
        "sns.heatmap(cm,annot=True)"
      ],
      "execution_count": null,
      "outputs": [
        {
          "output_type": "stream",
          "text": [
            "accuracy is : 0.9370249728555917\n",
            "              precision    recall  f1-score   support\n",
            "\n",
            "         0.0       0.94      0.96      0.95       564\n",
            "         1.0       0.94      0.90      0.92       357\n",
            "\n",
            "    accuracy                           0.94       921\n",
            "   macro avg       0.94      0.93      0.93       921\n",
            "weighted avg       0.94      0.94      0.94       921\n",
            "\n"
          ],
          "name": "stdout"
        },
        {
          "output_type": "execute_result",
          "data": {
            "text/plain": [
              "<matplotlib.axes._subplots.AxesSubplot at 0x7fea8e9f38d0>"
            ]
          },
          "metadata": {
            "tags": []
          },
          "execution_count": 90
        },
        {
          "output_type": "display_data",
          "data": {
            "image/png": "[encoded data removed]",
            "text/plain": [
              "<Figure size 432x288 with 2 Axes>"
            ]
          },
          "metadata": {
            "tags": [],
            "needs_background": "light"
          }
        }
      ]
    },
    {
      "cell_type": "markdown",
      "metadata": {
        "id": "OiAU2oNCg8Rs"
      },
      "source": [
        "Using Bagging Metaestimator algorithm accuracy is : 0.9370249728555917"
      ]
    },
    {
      "cell_type": "markdown",
      "metadata": {
        "id": "8ZlCDrirQgbb"
      },
      "source": [
        "#### Hyper parameter tunning of metaestimator"
      ]
    },
    {
      "cell_type": "code",
      "metadata": {
        "id": "tpa7-U6FQgbd"
      },
      "source": [
        "#model \n",
        "model=BaggingClassifier()\n",
        "n_estimators =[10,50,100,1000]\n",
        "#grid\n",
        "grid=dict(n_estimators=n_estimators)\n",
        "#cv\n",
        "from sklearn.model_selection import RepeatedStratifiedKFold\n",
        "cv=RepeatedStratifiedKFold(n_splits=5,n_repeats=3,random_state=1)\n",
        "#GridSearchCV\n",
        "from sklearn.model_selection import GridSearchCV\n",
        "grid_cv=GridSearchCV(estimator=model,param_grid=grid,cv=cv,scoring='accuracy')\n",
        "#results\n",
        "res=grid_cv.fit(xtrain,ytrain)\n",
        "print(\"best parameters are :\",res.best_params_)\n",
        "print(\"best accuracy is :\",res.best_score_)"
      ],
      "execution_count": null,
      "outputs": []
    },
    {
      "cell_type": "markdown",
      "metadata": {
        "id": "8wXxU2LxQgbe"
      },
      "source": [
        "#### Retraining the model on best parameters"
      ]
    },
    {
      "cell_type": "code",
      "metadata": {
        "id": "JkNtFlGWQgbe"
      },
      "source": [
        "from sklearn.ensemble import BaggingClassifier\n",
        "model=BaggingClassifier( n_estimators= 1000)\n",
        "model.fit(xtrain,ytrain)\n",
        "ypred=model.predict(xtest)"
      ],
      "execution_count": 104,
      "outputs": []
    },
    {
      "cell_type": "code",
      "metadata": {
        "colab": {
          "base_uri": "https://localhost:8080/",
          "height": 449
        },
        "id": "Uky3q-h9Qgbf",
        "outputId": "6e23da82-b791-4395-a3aa-66842cf2cd99"
      },
      "source": [
        "#Model Evaluation \n",
        "BM_pre,BM_recall,BM_fsc,support=score(ytest,ypred,average='macro')\n",
        "BM_acc = accuracy_score(ytest,ypred)\n",
        "from sklearn.metrics import accuracy_score,confusion_matrix,classification_report\n",
        "print(\"accuracy is :\",accuracy_score(ytest,ypred))\n",
        "cm=confusion_matrix(ytest,ypred)\n",
        "sns.heatmap(cm,annot=True)\n",
        "print(classification_report(ytest,ypred))"
      ],
      "execution_count": 105,
      "outputs": [
        {
          "output_type": "stream",
          "text": [
            "accuracy is : 0.9543478260869566\n",
            "              precision    recall  f1-score   support\n",
            "\n",
            "         0.0       0.96      0.97      0.96       563\n",
            "         1.0       0.95      0.93      0.94       357\n",
            "\n",
            "    accuracy                           0.95       920\n",
            "   macro avg       0.95      0.95      0.95       920\n",
            "weighted avg       0.95      0.95      0.95       920\n",
            "\n"
          ],
          "name": "stdout"
        },
        {
          "output_type": "display_data",
          "data": {
            "image/png": "[encoded data removed]",
            "text/plain": [
              "<Figure size 432x288 with 2 Axes>"
            ]
          },
          "metadata": {
            "tags": [],
            "needs_background": "light"
          }
        }
      ]
    },
    {
      "cell_type": "markdown",
      "metadata": {
        "id": "mNDwqMUcg8Rx"
      },
      "source": [
        "After Retraining the model on best parameters accuracy is  0.9467969598262758 "
      ]
    },
    {
      "cell_type": "markdown",
      "metadata": {
        "id": "NM6Pfqe5Qgbf"
      },
      "source": [
        "## ii) RandomForest"
      ]
    },
    {
      "cell_type": "code",
      "metadata": {
        "id": "eFv1ky8tQgbg"
      },
      "source": [
        "from sklearn.ensemble import RandomForestClassifier\n",
        "model=RandomForestClassifier()\n",
        "model.fit(xtrain,ytrain)\n",
        "ypred=model.predict(xtest)"
      ],
      "execution_count": 42,
      "outputs": []
    },
    {
      "cell_type": "code",
      "metadata": {
        "colab": {
          "base_uri": "https://localhost:8080/",
          "height": 467
        },
        "id": "xr0YFTYgQgbh",
        "outputId": "75171d7c-3469-430b-f8ef-6fc2302117ab"
      },
      "source": [
        "#Model Evaluation \n",
        "print(\"accuracy is :\",accuracy_score(ytest,ypred))\n",
        "print(classification_report(ytest,ypred))\n",
        "cm=confusion_matrix(ytest,ypred)\n",
        "sns.heatmap(cm,annot=True)\n"
      ],
      "execution_count": null,
      "outputs": [
        {
          "output_type": "stream",
          "text": [
            "accuracy is : 0.9609120521172638\n",
            "              precision    recall  f1-score   support\n",
            "\n",
            "         0.0       0.96      0.98      0.97       564\n",
            "         1.0       0.97      0.93      0.95       357\n",
            "\n",
            "    accuracy                           0.96       921\n",
            "   macro avg       0.96      0.96      0.96       921\n",
            "weighted avg       0.96      0.96      0.96       921\n",
            "\n"
          ],
          "name": "stdout"
        },
        {
          "output_type": "execute_result",
          "data": {
            "text/plain": [
              "<matplotlib.axes._subplots.AxesSubplot at 0x7feabce4ccd0>"
            ]
          },
          "metadata": {
            "tags": []
          },
          "execution_count": 94
        },
        {
          "output_type": "display_data",
          "data": {
            "image/png": "[encoded data removed]",
            "text/plain": [
              "<Figure size 432x288 with 2 Axes>"
            ]
          },
          "metadata": {
            "tags": [],
            "needs_background": "light"
          }
        }
      ]
    },
    {
      "cell_type": "markdown",
      "metadata": {
        "id": "4-8ue5SZg8R4"
      },
      "source": [
        "Using Random Forest Algorithm Accuracy is 0.9609120521172638"
      ]
    },
    {
      "cell_type": "markdown",
      "metadata": {
        "id": "hxNwqQWj1-rA"
      },
      "source": [
        "### hyper parameter tuning of the random forest"
      ]
    },
    {
      "cell_type": "code",
      "metadata": {
        "colab": {
          "base_uri": "https://localhost:8080/"
        },
        "id": "uEtDMUB7Qgbi",
        "outputId": "89733e83-c057-4352-eb1d-56ecefa067a7"
      },
      "source": [
        "#model \n",
        "model=RandomForestClassifier()\n",
        "n_estimators =[10,50,100,1000]\n",
        "criterion =[\"gini\", \"entropy\"]\n",
        "max_features =[\"auto\", \"sqrt\", \"log2\"]\n",
        "#grid\n",
        "grid=dict(n_estimators=n_estimators,criterion=criterion,max_features=max_features)\n",
        "#cv\n",
        "from sklearn.model_selection import RepeatedStratifiedKFold\n",
        "cv=RepeatedStratifiedKFold(n_splits=5,n_repeats=3,random_state=1)\n",
        "#GridSearchCV\n",
        "from sklearn.model_selection import GridSearchCV\n",
        "grid_cv=GridSearchCV(estimator=model,param_grid=grid,cv=cv,scoring='accuracy')\n",
        "#results\n",
        "res=grid_cv.fit(xtrain,ytrain)\n",
        "print(\"best parameters are :\",res.best_params_)\n",
        "print(\"best accuracy is :\",res.best_score_)"
      ],
      "execution_count": null,
      "outputs": [
        {
          "output_type": "stream",
          "text": [
            "best parameters are : {'criterion': 'entropy', 'max_features': 'log2', 'n_estimators': 1000}\n",
            "best accuracy is : 0.9520833333333332\n"
          ],
          "name": "stdout"
        }
      ]
    },
    {
      "cell_type": "markdown",
      "metadata": {
        "id": "IInwoftfg8R-"
      },
      "source": [
        "By Hyper Parameter tunning of the random forest best Accuracy is best accuracy is : 0.9520833333333332 with best parameter are {'criterion': 'entropy', 'max_features': 'log2', 'n_estimators': 1000}"
      ]
    },
    {
      "cell_type": "markdown",
      "metadata": {
        "id": "0DKPMAi1Qgbj"
      },
      "source": [
        "### Retraining the data on best parameters: "
      ]
    },
    {
      "cell_type": "code",
      "metadata": {
        "id": "L2n7CV7YQgbk"
      },
      "source": [
        "model=RandomForestClassifier(criterion='entropy',max_features='log2',n_estimators=1000)\n",
        "model.fit(xtrain,ytrain)\n",
        "ypred=model.predict(xtest)"
      ],
      "execution_count": 102,
      "outputs": []
    },
    {
      "cell_type": "code",
      "metadata": {
        "colab": {
          "base_uri": "https://localhost:8080/",
          "height": 467
        },
        "id": "8U_6WcdPQgbl",
        "outputId": "6797fb5c-f65e-4eb1-fd26-9f5fb9563771"
      },
      "source": [
        "#evaluation\n",
        "RF_pre,RF_recall,RF_fsc,support=score(ytest,ypred,average='macro')\n",
        "RF_acc = accuracy_score(ytest,ypred)\n",
        "acc=accuracy_score(ytest,ypred)\n",
        "print(\"Accuracy is: \",acc)\n",
        "print(classification_report(ytest,ypred))\n",
        "cm=confusion_matrix(ytest,ypred)\n",
        "sns.heatmap(cm,annot=True)"
      ],
      "execution_count": 103,
      "outputs": [
        {
          "output_type": "stream",
          "text": [
            "Accuracy is:  0.9554347826086956\n",
            "              precision    recall  f1-score   support\n",
            "\n",
            "         0.0       0.95      0.98      0.96       563\n",
            "         1.0       0.96      0.92      0.94       357\n",
            "\n",
            "    accuracy                           0.96       920\n",
            "   macro avg       0.96      0.95      0.95       920\n",
            "weighted avg       0.96      0.96      0.96       920\n",
            "\n"
          ],
          "name": "stdout"
        },
        {
          "output_type": "execute_result",
          "data": {
            "text/plain": [
              "<matplotlib.axes._subplots.AxesSubplot at 0x7f4e6acc2510>"
            ]
          },
          "metadata": {
            "tags": []
          },
          "execution_count": 103
        },
        {
          "output_type": "display_data",
          "data": {
            "image/png": "[encoded data removed]",
            "text/plain": [
              "<Figure size 432x288 with 2 Axes>"
            ]
          },
          "metadata": {
            "tags": [],
            "needs_background": "light"
          }
        }
      ]
    },
    {
      "cell_type": "markdown",
      "metadata": {
        "id": "Bepczczog8SB"
      },
      "source": [
        "After Retraining the data on best parameters Accuracy is Accuracy is:  0.9598262757871878"
      ]
    },
    {
      "cell_type": "markdown",
      "metadata": {
        "id": "lQTZ8MHDQgbm"
      },
      "source": [
        "# 7) Boosting"
      ]
    },
    {
      "cell_type": "markdown",
      "metadata": {
        "id": "PBYWryEpQgbm"
      },
      "source": [
        "## i) Adaboost"
      ]
    },
    {
      "cell_type": "code",
      "metadata": {
        "id": "rjwqx2NnQgbo"
      },
      "source": [
        "from sklearn.ensemble import AdaBoostClassifier\n",
        "model=AdaBoostClassifier()\n",
        "model.fit(xtrain,ytrain)\n",
        "ypred=model.predict(xtest)"
      ],
      "execution_count": 45,
      "outputs": []
    },
    {
      "cell_type": "code",
      "metadata": {
        "colab": {
          "background_save": true
        },
        "id": "eK87a_H2Qgbo",
        "outputId": "9bed1b55-9044-41e6-d0fe-ed393a98c826"
      },
      "source": [
        "from sklearn.metrics import classification_report, accuracy_score,confusion_matrix\n",
        "print(\"Accuracy is :\",accuracy_score(ytest,ypred))\n",
        "cm=confusion_matrix(ytest,ypred)\n",
        "sns.heatmap(cm,annot=True)\n",
        "print(classification_report(ytest,ypred))"
      ],
      "execution_count": null,
      "outputs": [
        {
          "output_type": "stream",
          "text": [
            "Accuracy is : 0.9348534201954397\n",
            "              precision    recall  f1-score   support\n",
            "\n",
            "         0.0       0.95      0.95      0.95       564\n",
            "         1.0       0.91      0.92      0.92       357\n",
            "\n",
            "    accuracy                           0.93       921\n",
            "   macro avg       0.93      0.93      0.93       921\n",
            "weighted avg       0.93      0.93      0.93       921\n",
            "\n"
          ],
          "name": "stdout"
        },
        {
          "output_type": "display_data",
          "data": {
            "image/png": "[encoded data removed]",
            "text/plain": [
              "<Figure size 432x288 with 2 Axes>"
            ]
          },
          "metadata": {
            "tags": []
          }
        }
      ]
    },
    {
      "cell_type": "markdown",
      "metadata": {
        "id": "EKP9In6og8SE"
      },
      "source": [
        "After Using Adaboost Algorithm Accuracy is : 0.9348534201954397"
      ]
    },
    {
      "cell_type": "code",
      "metadata": {
        "id": "E0KiSrfOQgbq"
      },
      "source": [
        "#model \n",
        "model=AdaBoostClassifier()\n",
        "n_estimators =[10,50,100,1000]\n",
        "learning_rate =[0.1,1]\n",
        "algorithm =[\"SAMME\", \"SAMME.R\"]\n",
        "#grid\n",
        "grid=dict(n_estimators=n_estimators,learning_rate=learning_rate,algorithm=algorithm)\n",
        "#cv\n",
        "from sklearn.model_selection import RepeatedStratifiedKFold\n",
        "cv=RepeatedStratifiedKFold(n_splits=5,n_repeats=3,random_state=1)\n",
        "#GridSearchCV\n",
        "from sklearn.model_selection import GridSearchCV\n",
        "grid_cv=GridSearchCV(estimator=model,param_grid=grid,cv=cv,scoring='accuracy')\n",
        "#results\n",
        "res=grid_cv.fit(xtrain,ytrain)\n",
        "print(\"best parameters are :\",res.best_params_)\n",
        "print(\"best accuracy is :\",res.best_score_)"
      ],
      "execution_count": null,
      "outputs": []
    },
    {
      "cell_type": "markdown",
      "metadata": {
        "id": "Of8jFiFvQgbr"
      },
      "source": [
        "### Retraining the Adaboost model on best parameters "
      ]
    },
    {
      "cell_type": "code",
      "metadata": {
        "id": "_WYGaRs-Qgbs"
      },
      "source": [
        "from sklearn.ensemble import AdaBoostClassifier\n",
        "model=AdaBoostClassifier(algorithm= 'SAMME.R',learning_rate=0.1, n_estimators= 1000)\n",
        "model.fit(xtrain,ytrain)\n",
        "ypred=model.predict(xtest)"
      ],
      "execution_count": 87,
      "outputs": []
    },
    {
      "cell_type": "code",
      "metadata": {
        "colab": {
          "base_uri": "https://localhost:8080/",
          "height": 449
        },
        "id": "UKuoHD5RQgbt",
        "outputId": "8fa659d6-c14a-4955-b852-173c8401a741"
      },
      "source": [
        "Ada_pre,Ada_recall,Ada_fsc,support=score(ytest,ypred,average='macro')\n",
        "Ada_acc = accuracy_score(ytest,ypred)\n",
        "print(\"Accuracy is :\",accuracy_score(ytest,ypred))\n",
        "cm=confusion_matrix(ytest,ypred)\n",
        "sns.heatmap(cm,annot=True)\n",
        "print(classification_report(ytest,ypred))"
      ],
      "execution_count": 88,
      "outputs": [
        {
          "output_type": "stream",
          "text": [
            "Accuracy is : 0.9478260869565217\n",
            "              precision    recall  f1-score   support\n",
            "\n",
            "         0.0       0.95      0.96      0.96       563\n",
            "         1.0       0.94      0.93      0.93       357\n",
            "\n",
            "    accuracy                           0.95       920\n",
            "   macro avg       0.95      0.94      0.94       920\n",
            "weighted avg       0.95      0.95      0.95       920\n",
            "\n"
          ],
          "name": "stdout"
        },
        {
          "output_type": "display_data",
          "data": {
            "image/png": "[encoded data removed]",
            "text/plain": [
              "<Figure size 432x288 with 2 Axes>"
            ]
          },
          "metadata": {
            "tags": [],
            "needs_background": "light"
          }
        }
      ]
    },
    {
      "cell_type": "markdown",
      "metadata": {
        "id": "oRRu980Bg8SH"
      },
      "source": [
        "After Retraining the logistic regression model on best parameters Accuracy is  0.9500542888165038"
      ]
    },
    {
      "cell_type": "markdown",
      "metadata": {
        "id": "Gs2qttPuQgbx"
      },
      "source": [
        "## ii) GradientBoost"
      ]
    },
    {
      "cell_type": "code",
      "metadata": {
        "id": "5i-774G1Qgbx"
      },
      "source": [
        "from sklearn.ensemble import GradientBoostingClassifier\n",
        "model=GradientBoostingClassifier(n_estimators=100)\n",
        "model.fit(xtrain,ytrain)\n",
        "ypred=model.predict(xtest)"
      ],
      "execution_count": 89,
      "outputs": []
    },
    {
      "cell_type": "code",
      "metadata": {
        "colab": {
          "base_uri": "https://localhost:8080/",
          "height": 449
        },
        "id": "K3gEfZrmQgbz",
        "outputId": "b21f7ed3-b4fc-42e4-d12c-7602085ab56f"
      },
      "source": [
        "#Evaluation\n",
        "GradBoost_pre,GradBoost_recall,GradBoost_fsc,support=score(ytest,ypred,average='macro')\n",
        "GradBoost_acc = accuracy_score(ytest,ypred)\n",
        "print(\"Accuracy is :\",accuracy_score(ytest,ypred))\n",
        "cm=confusion_matrix(ytest,ypred)\n",
        "sns.heatmap(cm,annot=True)\n",
        "print(classification_report(ytest,ypred))"
      ],
      "execution_count": 90,
      "outputs": [
        {
          "output_type": "stream",
          "text": [
            "Accuracy is : 0.9445652173913044\n",
            "              precision    recall  f1-score   support\n",
            "\n",
            "         0.0       0.95      0.96      0.96       563\n",
            "         1.0       0.94      0.91      0.93       357\n",
            "\n",
            "    accuracy                           0.94       920\n",
            "   macro avg       0.94      0.94      0.94       920\n",
            "weighted avg       0.94      0.94      0.94       920\n",
            "\n"
          ],
          "name": "stdout"
        },
        {
          "output_type": "display_data",
          "data": {
            "image/png": "[encoded data removed]",
            "text/plain": [
              "<Figure size 432x288 with 2 Axes>"
            ]
          },
          "metadata": {
            "tags": [],
            "needs_background": "light"
          }
        }
      ]
    },
    {
      "cell_type": "markdown",
      "metadata": {
        "id": "YHpjSDekg8SK"
      },
      "source": [
        "After using the Gradient Boost Classifier algorithm Accuracy is 0.9511400651465798"
      ]
    },
    {
      "cell_type": "markdown",
      "metadata": {
        "id": "TiBhzw03Qgb4"
      },
      "source": [
        "## iii) XGBoost"
      ]
    },
    {
      "cell_type": "code",
      "metadata": {
        "id": "Z16kabLZQgb5"
      },
      "source": [
        "from xgboost import XGBClassifier\n",
        "model=XGBClassifier()\n",
        "model.fit(xtrain,ytrain)\n",
        "ypred=model.predict(xtest)"
      ],
      "execution_count": 91,
      "outputs": []
    },
    {
      "cell_type": "code",
      "metadata": {
        "colab": {
          "base_uri": "https://localhost:8080/",
          "height": 449
        },
        "id": "Wao1lPN6Qgb6",
        "outputId": "607a1c11-eb91-4b0b-fac9-955be2afd7da"
      },
      "source": [
        "print(\"Accuracy is :\",accuracy_score(ytest,ypred))\n",
        "cm=confusion_matrix(ytest,ypred)\n",
        "sns.heatmap(cm,annot=True)\n",
        "print(classification_report(ytest,ypred))"
      ],
      "execution_count": 92,
      "outputs": [
        {
          "output_type": "stream",
          "text": [
            "Accuracy is : 0.9445652173913044\n",
            "              precision    recall  f1-score   support\n",
            "\n",
            "         0.0       0.95      0.96      0.96       563\n",
            "         1.0       0.94      0.91      0.93       357\n",
            "\n",
            "    accuracy                           0.94       920\n",
            "   macro avg       0.94      0.94      0.94       920\n",
            "weighted avg       0.94      0.94      0.94       920\n",
            "\n"
          ],
          "name": "stdout"
        },
        {
          "output_type": "display_data",
          "data": {
            "image/png": "[encoded data removed]",
            "text/plain": [
              "<Figure size 432x288 with 2 Axes>"
            ]
          },
          "metadata": {
            "tags": [],
            "needs_background": "light"
          }
        }
      ]
    },
    {
      "cell_type": "markdown",
      "metadata": {
        "id": "QvfcnbZqg8SP"
      },
      "source": [
        "After Using the XGboost Classifier Algorithm Accuracy is  0.9457111834961998"
      ]
    },
    {
      "cell_type": "code",
      "metadata": {
        "id": "b5YTps3MQgb7"
      },
      "source": [
        "#model \n",
        "model=XGBClassifier()\n",
        "n_estimators =[10,50,100]\n",
        "learning_rate =[0.1,1]\n",
        "#grid\n",
        "grid=dict(n_estimators=n_estimators,learning_rate=learning_rate)\n",
        "#cv\n",
        "from sklearn.model_selection import RepeatedStratifiedKFold\n",
        "cv=RepeatedStratifiedKFold(n_splits=5,n_repeats=3,random_state=1)\n",
        "#GridSearchCV\n",
        "from sklearn.model_selection import GridSearchCV\n",
        "grid_cv=GridSearchCV(estimator=model,param_grid=grid,cv=cv,scoring='accuracy')\n",
        "#results\n",
        "res=grid_cv.fit(xtrain,ytrain)\n",
        "print(\"best parameters are :\",res.best_params_)\n",
        "print(\"best accuracy is :\",res.best_score_)"
      ],
      "execution_count": null,
      "outputs": []
    },
    {
      "cell_type": "markdown",
      "metadata": {
        "id": "n3H1Zx2yQgb7"
      },
      "source": [
        "### Retraining the XGBoost regression model on best parameters"
      ]
    },
    {
      "cell_type": "code",
      "metadata": {
        "id": "1lpQ09D7Qgb7"
      },
      "source": [
        "from xgboost import XGBClassifier\n",
        "model=XGBClassifier(learning_rate= 1,n_estimators= 100)\n",
        "model.fit(xtrain,ytrain)\n",
        "ypred=model.predict(xtest)"
      ],
      "execution_count": 93,
      "outputs": []
    },
    {
      "cell_type": "code",
      "metadata": {
        "colab": {
          "base_uri": "https://localhost:8080/",
          "height": 449
        },
        "id": "FPV6Qkv-Qgb9",
        "outputId": "42c5899f-0dc0-4377-ae15-7016dba3789b"
      },
      "source": [
        "#Evaluation\n",
        "XGB_pre,XGB_recall,XGB_fsc,support=score(ytest,ypred,average='macro')\n",
        "XGB_acc = accuracy_score(ytest,ypred)\n",
        "print(\"Accuracy is :\",accuracy_score(ytest,ypred))\n",
        "cm=confusion_matrix(ytest,ypred)\n",
        "sns.heatmap(cm,annot=True)\n",
        "print(classification_report(ytest,ypred))"
      ],
      "execution_count": 94,
      "outputs": [
        {
          "output_type": "stream",
          "text": [
            "Accuracy is : 0.9456521739130435\n",
            "              precision    recall  f1-score   support\n",
            "\n",
            "         0.0       0.95      0.96      0.96       563\n",
            "         1.0       0.93      0.92      0.93       357\n",
            "\n",
            "    accuracy                           0.95       920\n",
            "   macro avg       0.94      0.94      0.94       920\n",
            "weighted avg       0.95      0.95      0.95       920\n",
            "\n"
          ],
          "name": "stdout"
        },
        {
          "output_type": "display_data",
          "data": {
            "image/png": "[encoded data removed]",
            "text/plain": [
              "<Figure size 432x288 with 2 Axes>"
            ]
          },
          "metadata": {
            "tags": [],
            "needs_background": "light"
          }
        }
      ]
    },
    {
      "cell_type": "markdown",
      "metadata": {
        "id": "Wy81AKf9g8ST"
      },
      "source": [
        "After Retraining the logistic regression model on best parameters Accuracy is 0.9565689467969598"
      ]
    },
    {
      "cell_type": "markdown",
      "metadata": {
        "id": "9vCPJ_UcQgb-"
      },
      "source": [
        "# 7)Voting"
      ]
    },
    {
      "cell_type": "code",
      "metadata": {
        "id": "zMRdkVzUQgb-"
      },
      "source": [
        "from sklearn.linear_model import LogisticRegression\n",
        "from sklearn.neighbors import KNeighborsClassifier\n",
        "from sklearn.naive_bayes import GaussianNB\n",
        "from sklearn.svm import SVC\n",
        "from sklearn.ensemble import RandomForestClassifier,AdaBoostClassifier,GradientBoostingClassifier\n",
        "models=[\n",
        "    (\"lr\",LogisticRegression()),\n",
        "    (\"knn\",KNeighborsClassifier(n_neighbors=5)),\n",
        "    (\"GNB\",GaussianNB()),\n",
        "    (\"RF\",RandomForestClassifier(n_estimators=50)),\n",
        "    ('ABC',AdaBoostClassifier(n_estimators=50)),\n",
        "    ('GBC',GradientBoostingClassifier(n_estimators=50)),\n",
        "    ('SVM',SVC(C=0.1,probability=True))\n",
        "]"
      ],
      "execution_count": 95,
      "outputs": []
    },
    {
      "cell_type": "code",
      "metadata": {
        "id": "8oQGluzwQgb_"
      },
      "source": [
        "from sklearn.ensemble import VotingClassifier\n",
        "model=VotingClassifier(estimators=models,voting=\"soft\")\n",
        "model.fit(xtrain,ytrain)\n",
        "ypred=model.predict(xtest)"
      ],
      "execution_count": 96,
      "outputs": []
    },
    {
      "cell_type": "code",
      "metadata": {
        "colab": {
          "base_uri": "https://localhost:8080/",
          "height": 449
        },
        "id": "P4ZTvWeKQgcA",
        "outputId": "838083cd-69af-4809-aa52-f6c04fe98acc"
      },
      "source": [
        "#Evaluation\n",
        "voting_pre,voting_recall,voting_fsc,support=score(ytest,ypred,average='macro')\n",
        "voting_acc = accuracy_score(ytest,ypred)\n",
        "print(\"Accuracy is :\",accuracy_score(ytest,ypred))\n",
        "cm=confusion_matrix(ytest,ypred)\n",
        "sns.heatmap(cm,annot=True)\n",
        "print(classification_report(ytest,ypred))"
      ],
      "execution_count": 64,
      "outputs": [
        {
          "output_type": "stream",
          "text": [
            "Accuracy is : 0.95\n",
            "              precision    recall  f1-score   support\n",
            "\n",
            "           0       0.96      0.96      0.96       563\n",
            "           1       0.93      0.94      0.94       357\n",
            "\n",
            "    accuracy                           0.95       920\n",
            "   macro avg       0.95      0.95      0.95       920\n",
            "weighted avg       0.95      0.95      0.95       920\n",
            "\n"
          ],
          "name": "stdout"
        },
        {
          "output_type": "display_data",
          "data": {
            "image/png": "[encoded data removed]",
            "text/plain": [
              "<Figure size 432x288 with 2 Axes>"
            ]
          },
          "metadata": {
            "tags": [],
            "needs_background": "light"
          }
        }
      ]
    },
    {
      "cell_type": "markdown",
      "metadata": {
        "id": "qtCVPv99g8SW"
      },
      "source": [
        "After Using the Voting Classifier Accuracy is 0.9511400651465798"
      ]
    },
    {
      "cell_type": "markdown",
      "metadata": {
        "id": "6f0AbZLPQgcC"
      },
      "source": [
        "# 8) Stacking "
      ]
    },
    {
      "cell_type": "code",
      "metadata": {
        "id": "HO7H123PQgcC"
      },
      "source": [
        "from sklearn.neighbors import KNeighborsClassifier\n",
        "from sklearn.svm import SVC\n",
        "from sklearn.tree import DecisionTreeClassifier\n",
        "#Base models\n",
        "base_models=[ ('knn',KNeighborsClassifier(n_neighbors=5)),\n",
        "             ('svm',SVC(C=0.1,kernel='linear')),\n",
        "             ('DT',DecisionTreeClassifier())\n",
        "]\n",
        "#Final Model\n",
        "from sklearn.linear_model import LogisticRegression\n",
        "final_model=LogisticRegression()\n",
        "#Stacking Classifier\n",
        "from sklearn.ensemble import StackingClassifier\n",
        "model=StackingClassifier(estimators=base_models,final_estimator=final_model)\n",
        "model.fit(xtrain,ytrain)\n",
        "ypred=model.predict(xtest)"
      ],
      "execution_count": 97,
      "outputs": []
    },
    {
      "cell_type": "code",
      "metadata": {
        "colab": {
          "base_uri": "https://localhost:8080/",
          "height": 467
        },
        "id": "0yivr9HsQgcE",
        "outputId": "e9975fbf-2502-485f-86fd-7047ea39e247"
      },
      "source": [
        "#Evaluation\n",
        "stacking_pre,stacking_recall,stacking_fsc,support=score(ytest,ypred,average='macro')\n",
        "stacking_acc = accuracy_score(ytest,ypred)\n",
        "print(\"Accuracy is \",accuracy_score(ytest,ypred))\n",
        "print(classification_report(ytest,ypred))\n",
        "cm=confusion_matrix(ytest,ypred)\n",
        "sns.heatmap(cm,annot=True)"
      ],
      "execution_count": 98,
      "outputs": [
        {
          "output_type": "stream",
          "text": [
            "Accuracy is  0.9271739130434783\n",
            "              precision    recall  f1-score   support\n",
            "\n",
            "         0.0       0.93      0.95      0.94       563\n",
            "         1.0       0.92      0.89      0.90       357\n",
            "\n",
            "    accuracy                           0.93       920\n",
            "   macro avg       0.93      0.92      0.92       920\n",
            "weighted avg       0.93      0.93      0.93       920\n",
            "\n"
          ],
          "name": "stdout"
        },
        {
          "output_type": "execute_result",
          "data": {
            "text/plain": [
              "<matplotlib.axes._subplots.AxesSubplot at 0x7f4e6a7c5910>"
            ]
          },
          "metadata": {
            "tags": []
          },
          "execution_count": 98
        },
        {
          "output_type": "display_data",
          "data": {
            "image/png": "[encoded data removed]",
            "text/plain": [
              "<Figure size 432x288 with 2 Axes>"
            ]
          },
          "metadata": {
            "tags": [],
            "needs_background": "light"
          }
        }
      ]
    },
    {
      "cell_type": "markdown",
      "metadata": {
        "id": "yPkP2pS8g8SY"
      },
      "source": [
        "After using Stacking Algorithm Accuracy is  0.9305103148751357"
      ]
    },
    {
      "cell_type": "markdown",
      "metadata": {
        "id": "hqDfKEjzF5oY"
      },
      "source": [
        "# Evaluation"
      ]
    },
    {
      "cell_type": "code",
      "metadata": {
        "collapsed": true,
        "id": "6N2Lzg0mQgcF"
      },
      "source": [
        "models = ['Logistic Regression','Naive Bayes','SVM','KNN','Decision Tree','Bagging metaestimator','Random forest','AdaBoost','Gradient Boost','XGBoost','Voting classifier','stacking Classifier']\n",
        "accuracy = [lr_acc,NB_acc,SVM_acc,KNN_acc,DT_acc,BM_acc,RF_acc,Ada_acc,GradBoost_acc,XGB_acc,voting_acc,stacking_acc]\n",
        "precision=[lr_pre,NB_pre,SVM_pre,KNN_pre,DT_pre,BM_pre,RF_pre,Ada_pre,GradBoost_pre,XGB_pre,voting_pre,stacking_pre]\n",
        "recall = [lr_recall,NB_recall,SVM_recall,KNN_recall,DT_recall,BM_recall,RF_recall,Ada_recall,GradBoost_recall,XGB_recall,voting_recall,stacking_recall]\n",
        "fscore = [lr_fsc,NB_fsc,SVM_fsc,KNN_fsc,DT_fsc,BM_fsc,RF_fsc,Ada_fsc,GradBoost_fsc,XGB_fsc,voting_fsc,stacking_fsc]\n",
        "Evaluation = pd.DataFrame({'No.':[x+1 for x in range(len(models))],'Model':models,'Accuracy':accuracy,'Precision':precision,'Recall':recall,'fscore':fscore})"
      ],
      "execution_count": 106,
      "outputs": []
    },
    {
      "cell_type": "code",
      "metadata": {
        "colab": {
          "base_uri": "https://localhost:8080/",
          "height": 297
        },
        "id": "yMCsaFQmGIRe",
        "outputId": "07101821-adc2-4d8e-f277-5586a12528ae"
      },
      "source": [
        "Evaluation.style.highlight_max(subset = ['Accuracy'],color = 'lightgreen')"
      ],
      "execution_count": 107,
      "outputs": [
        {
          "output_type": "execute_result",
          "data": {
            "text/html": [
              "<style  type=\"text/css\" >\n",
              "#T_f3891ec0_f9ee_11eb_90e9_0242ac1c0002row6_col2{\n",
              "            background-color:  lightgreen;\n",
              "        }</style><table id=\"T_f3891ec0_f9ee_11eb_90e9_0242ac1c0002\" ><thead>    <tr>        <th class=\"blank level0\" ></th>        <th class=\"col_heading level0 col0\" >No.</th>        <th class=\"col_heading level0 col1\" >Model</th>        <th class=\"col_heading level0 col2\" >Accuracy</th>        <th class=\"col_heading level0 col3\" >Precision</th>        <th class=\"col_heading level0 col4\" >Recall</th>        <th class=\"col_heading level0 col5\" >fscore</th>    </tr></thead><tbody>\n",
              "                <tr>\n",
              "                        <th id=\"T_f3891ec0_f9ee_11eb_90e9_0242ac1c0002level0_row0\" class=\"row_heading level0 row0\" >0</th>\n",
              "                        <td id=\"T_f3891ec0_f9ee_11eb_90e9_0242ac1c0002row0_col0\" class=\"data row0 col0\" >1</td>\n",
              "                        <td id=\"T_f3891ec0_f9ee_11eb_90e9_0242ac1c0002row0_col1\" class=\"data row0 col1\" >Logistic Regression</td>\n",
              "                        <td id=\"T_f3891ec0_f9ee_11eb_90e9_0242ac1c0002row0_col2\" class=\"data row0 col2\" >0.920652</td>\n",
              "                        <td id=\"T_f3891ec0_f9ee_11eb_90e9_0242ac1c0002row0_col3\" class=\"data row0 col3\" >0.919540</td>\n",
              "                        <td id=\"T_f3891ec0_f9ee_11eb_90e9_0242ac1c0002row0_col4\" class=\"data row0 col4\" >0.912620</td>\n",
              "                        <td id=\"T_f3891ec0_f9ee_11eb_90e9_0242ac1c0002row0_col5\" class=\"data row0 col5\" >0.915793</td>\n",
              "            </tr>\n",
              "            <tr>\n",
              "                        <th id=\"T_f3891ec0_f9ee_11eb_90e9_0242ac1c0002level0_row1\" class=\"row_heading level0 row1\" >1</th>\n",
              "                        <td id=\"T_f3891ec0_f9ee_11eb_90e9_0242ac1c0002row1_col0\" class=\"data row1 col0\" >2</td>\n",
              "                        <td id=\"T_f3891ec0_f9ee_11eb_90e9_0242ac1c0002row1_col1\" class=\"data row1 col1\" >Naive Bayes</td>\n",
              "                        <td id=\"T_f3891ec0_f9ee_11eb_90e9_0242ac1c0002row1_col2\" class=\"data row1 col2\" >0.786957</td>\n",
              "                        <td id=\"T_f3891ec0_f9ee_11eb_90e9_0242ac1c0002row1_col3\" class=\"data row1 col3\" >0.808945</td>\n",
              "                        <td id=\"T_f3891ec0_f9ee_11eb_90e9_0242ac1c0002row1_col4\" class=\"data row1 col4\" >0.818758</td>\n",
              "                        <td id=\"T_f3891ec0_f9ee_11eb_90e9_0242ac1c0002row1_col5\" class=\"data row1 col5\" >0.786592</td>\n",
              "            </tr>\n",
              "            <tr>\n",
              "                        <th id=\"T_f3891ec0_f9ee_11eb_90e9_0242ac1c0002level0_row2\" class=\"row_heading level0 row2\" >2</th>\n",
              "                        <td id=\"T_f3891ec0_f9ee_11eb_90e9_0242ac1c0002row2_col0\" class=\"data row2 col0\" >3</td>\n",
              "                        <td id=\"T_f3891ec0_f9ee_11eb_90e9_0242ac1c0002row2_col1\" class=\"data row2 col1\" >SVM</td>\n",
              "                        <td id=\"T_f3891ec0_f9ee_11eb_90e9_0242ac1c0002row2_col2\" class=\"data row2 col2\" >0.904348</td>\n",
              "                        <td id=\"T_f3891ec0_f9ee_11eb_90e9_0242ac1c0002row2_col3\" class=\"data row2 col3\" >0.909773</td>\n",
              "                        <td id=\"T_f3891ec0_f9ee_11eb_90e9_0242ac1c0002row2_col4\" class=\"data row2 col4\" >0.888537</td>\n",
              "                        <td id=\"T_f3891ec0_f9ee_11eb_90e9_0242ac1c0002row2_col5\" class=\"data row2 col5\" >0.896853</td>\n",
              "            </tr>\n",
              "            <tr>\n",
              "                        <th id=\"T_f3891ec0_f9ee_11eb_90e9_0242ac1c0002level0_row3\" class=\"row_heading level0 row3\" >3</th>\n",
              "                        <td id=\"T_f3891ec0_f9ee_11eb_90e9_0242ac1c0002row3_col0\" class=\"data row3 col0\" >4</td>\n",
              "                        <td id=\"T_f3891ec0_f9ee_11eb_90e9_0242ac1c0002row3_col1\" class=\"data row3 col1\" >KNN</td>\n",
              "                        <td id=\"T_f3891ec0_f9ee_11eb_90e9_0242ac1c0002row3_col2\" class=\"data row3 col2\" >0.925000</td>\n",
              "                        <td id=\"T_f3891ec0_f9ee_11eb_90e9_0242ac1c0002row3_col3\" class=\"data row3 col3\" >0.928127</td>\n",
              "                        <td id=\"T_f3891ec0_f9ee_11eb_90e9_0242ac1c0002row3_col4\" class=\"data row3 col4\" >0.913611</td>\n",
              "                        <td id=\"T_f3891ec0_f9ee_11eb_90e9_0242ac1c0002row3_col5\" class=\"data row3 col5\" >0.919765</td>\n",
              "            </tr>\n",
              "            <tr>\n",
              "                        <th id=\"T_f3891ec0_f9ee_11eb_90e9_0242ac1c0002level0_row4\" class=\"row_heading level0 row4\" >4</th>\n",
              "                        <td id=\"T_f3891ec0_f9ee_11eb_90e9_0242ac1c0002row4_col0\" class=\"data row4 col0\" >5</td>\n",
              "                        <td id=\"T_f3891ec0_f9ee_11eb_90e9_0242ac1c0002row4_col1\" class=\"data row4 col1\" >Decision Tree</td>\n",
              "                        <td id=\"T_f3891ec0_f9ee_11eb_90e9_0242ac1c0002row4_col2\" class=\"data row4 col2\" >0.880435</td>\n",
              "                        <td id=\"T_f3891ec0_f9ee_11eb_90e9_0242ac1c0002row4_col3\" class=\"data row4 col3\" >0.875942</td>\n",
              "                        <td id=\"T_f3891ec0_f9ee_11eb_90e9_0242ac1c0002row4_col4\" class=\"data row4 col4\" >0.871049</td>\n",
              "                        <td id=\"T_f3891ec0_f9ee_11eb_90e9_0242ac1c0002row4_col5\" class=\"data row4 col5\" >0.873322</td>\n",
              "            </tr>\n",
              "            <tr>\n",
              "                        <th id=\"T_f3891ec0_f9ee_11eb_90e9_0242ac1c0002level0_row5\" class=\"row_heading level0 row5\" >5</th>\n",
              "                        <td id=\"T_f3891ec0_f9ee_11eb_90e9_0242ac1c0002row5_col0\" class=\"data row5 col0\" >6</td>\n",
              "                        <td id=\"T_f3891ec0_f9ee_11eb_90e9_0242ac1c0002row5_col1\" class=\"data row5 col1\" >Bagging metaestimator</td>\n",
              "                        <td id=\"T_f3891ec0_f9ee_11eb_90e9_0242ac1c0002row5_col2\" class=\"data row5 col2\" >0.954348</td>\n",
              "                        <td id=\"T_f3891ec0_f9ee_11eb_90e9_0242ac1c0002row5_col3\" class=\"data row5 col3\" >0.953269</td>\n",
              "                        <td id=\"T_f3891ec0_f9ee_11eb_90e9_0242ac1c0002row5_col4\" class=\"data row5 col4\" >0.950401</td>\n",
              "                        <td id=\"T_f3891ec0_f9ee_11eb_90e9_0242ac1c0002row5_col5\" class=\"data row5 col5\" >0.951788</td>\n",
              "            </tr>\n",
              "            <tr>\n",
              "                        <th id=\"T_f3891ec0_f9ee_11eb_90e9_0242ac1c0002level0_row6\" class=\"row_heading level0 row6\" >6</th>\n",
              "                        <td id=\"T_f3891ec0_f9ee_11eb_90e9_0242ac1c0002row6_col0\" class=\"data row6 col0\" >7</td>\n",
              "                        <td id=\"T_f3891ec0_f9ee_11eb_90e9_0242ac1c0002row6_col1\" class=\"data row6 col1\" >Random forest</td>\n",
              "                        <td id=\"T_f3891ec0_f9ee_11eb_90e9_0242ac1c0002row6_col2\" class=\"data row6 col2\" >0.955435</td>\n",
              "                        <td id=\"T_f3891ec0_f9ee_11eb_90e9_0242ac1c0002row6_col3\" class=\"data row6 col3\" >0.956214</td>\n",
              "                        <td id=\"T_f3891ec0_f9ee_11eb_90e9_0242ac1c0002row6_col4\" class=\"data row6 col4\" >0.949751</td>\n",
              "                        <td id=\"T_f3891ec0_f9ee_11eb_90e9_0242ac1c0002row6_col5\" class=\"data row6 col5\" >0.952758</td>\n",
              "            </tr>\n",
              "            <tr>\n",
              "                        <th id=\"T_f3891ec0_f9ee_11eb_90e9_0242ac1c0002level0_row7\" class=\"row_heading level0 row7\" >7</th>\n",
              "                        <td id=\"T_f3891ec0_f9ee_11eb_90e9_0242ac1c0002row7_col0\" class=\"data row7 col0\" >8</td>\n",
              "                        <td id=\"T_f3891ec0_f9ee_11eb_90e9_0242ac1c0002row7_col1\" class=\"data row7 col1\" >AdaBoost</td>\n",
              "                        <td id=\"T_f3891ec0_f9ee_11eb_90e9_0242ac1c0002row7_col2\" class=\"data row7 col2\" >0.947826</td>\n",
              "                        <td id=\"T_f3891ec0_f9ee_11eb_90e9_0242ac1c0002row7_col3\" class=\"data row7 col3\" >0.945911</td>\n",
              "                        <td id=\"T_f3891ec0_f9ee_11eb_90e9_0242ac1c0002row7_col4\" class=\"data row7 col4\" >0.944047</td>\n",
              "                        <td id=\"T_f3891ec0_f9ee_11eb_90e9_0242ac1c0002row7_col5\" class=\"data row7 col5\" >0.944958</td>\n",
              "            </tr>\n",
              "            <tr>\n",
              "                        <th id=\"T_f3891ec0_f9ee_11eb_90e9_0242ac1c0002level0_row8\" class=\"row_heading level0 row8\" >8</th>\n",
              "                        <td id=\"T_f3891ec0_f9ee_11eb_90e9_0242ac1c0002row8_col0\" class=\"data row8 col0\" >9</td>\n",
              "                        <td id=\"T_f3891ec0_f9ee_11eb_90e9_0242ac1c0002row8_col1\" class=\"data row8 col1\" >Gradient Boost</td>\n",
              "                        <td id=\"T_f3891ec0_f9ee_11eb_90e9_0242ac1c0002row8_col2\" class=\"data row8 col2\" >0.944565</td>\n",
              "                        <td id=\"T_f3891ec0_f9ee_11eb_90e9_0242ac1c0002row8_col3\" class=\"data row8 col3\" >0.944095</td>\n",
              "                        <td id=\"T_f3891ec0_f9ee_11eb_90e9_0242ac1c0002row8_col4\" class=\"data row8 col4\" >0.938821</td>\n",
              "                        <td id=\"T_f3891ec0_f9ee_11eb_90e9_0242ac1c0002row8_col5\" class=\"data row8 col5\" >0.941299</td>\n",
              "            </tr>\n",
              "            <tr>\n",
              "                        <th id=\"T_f3891ec0_f9ee_11eb_90e9_0242ac1c0002level0_row9\" class=\"row_heading level0 row9\" >9</th>\n",
              "                        <td id=\"T_f3891ec0_f9ee_11eb_90e9_0242ac1c0002row9_col0\" class=\"data row9 col0\" >10</td>\n",
              "                        <td id=\"T_f3891ec0_f9ee_11eb_90e9_0242ac1c0002row9_col1\" class=\"data row9 col1\" >XGBoost</td>\n",
              "                        <td id=\"T_f3891ec0_f9ee_11eb_90e9_0242ac1c0002row9_col2\" class=\"data row9 col2\" >0.945652</td>\n",
              "                        <td id=\"T_f3891ec0_f9ee_11eb_90e9_0242ac1c0002row9_col3\" class=\"data row9 col3\" >0.943613</td>\n",
              "                        <td id=\"T_f3891ec0_f9ee_11eb_90e9_0242ac1c0002row9_col4\" class=\"data row9 col4\" >0.941759</td>\n",
              "                        <td id=\"T_f3891ec0_f9ee_11eb_90e9_0242ac1c0002row9_col5\" class=\"data row9 col5\" >0.942665</td>\n",
              "            </tr>\n",
              "            <tr>\n",
              "                        <th id=\"T_f3891ec0_f9ee_11eb_90e9_0242ac1c0002level0_row10\" class=\"row_heading level0 row10\" >10</th>\n",
              "                        <td id=\"T_f3891ec0_f9ee_11eb_90e9_0242ac1c0002row10_col0\" class=\"data row10 col0\" >11</td>\n",
              "                        <td id=\"T_f3891ec0_f9ee_11eb_90e9_0242ac1c0002row10_col1\" class=\"data row10 col1\" >Voting classifier</td>\n",
              "                        <td id=\"T_f3891ec0_f9ee_11eb_90e9_0242ac1c0002row10_col2\" class=\"data row10 col2\" >0.950000</td>\n",
              "                        <td id=\"T_f3891ec0_f9ee_11eb_90e9_0242ac1c0002row10_col3\" class=\"data row10 col3\" >0.946590</td>\n",
              "                        <td id=\"T_f3891ec0_f9ee_11eb_90e9_0242ac1c0002row10_col4\" class=\"data row10 col4\" >0.948386</td>\n",
              "                        <td id=\"T_f3891ec0_f9ee_11eb_90e9_0242ac1c0002row10_col5\" class=\"data row10 col5\" >0.947467</td>\n",
              "            </tr>\n",
              "            <tr>\n",
              "                        <th id=\"T_f3891ec0_f9ee_11eb_90e9_0242ac1c0002level0_row11\" class=\"row_heading level0 row11\" >11</th>\n",
              "                        <td id=\"T_f3891ec0_f9ee_11eb_90e9_0242ac1c0002row11_col0\" class=\"data row11 col0\" >12</td>\n",
              "                        <td id=\"T_f3891ec0_f9ee_11eb_90e9_0242ac1c0002row11_col1\" class=\"data row11 col1\" >stacking Classifier</td>\n",
              "                        <td id=\"T_f3891ec0_f9ee_11eb_90e9_0242ac1c0002row11_col2\" class=\"data row11 col2\" >0.927174</td>\n",
              "                        <td id=\"T_f3891ec0_f9ee_11eb_90e9_0242ac1c0002row11_col3\" class=\"data row11 col3\" >0.925117</td>\n",
              "                        <td id=\"T_f3891ec0_f9ee_11eb_90e9_0242ac1c0002row11_col4\" class=\"data row11 col4\" >0.921024</td>\n",
              "                        <td id=\"T_f3891ec0_f9ee_11eb_90e9_0242ac1c0002row11_col5\" class=\"data row11 col5\" >0.922967</td>\n",
              "            </tr>\n",
              "    </tbody></table>"
            ],
            "text/plain": [
              "<pandas.io.formats.style.Styler at 0x7f4e6adfd790>"
            ]
          },
          "metadata": {
            "tags": []
          },
          "execution_count": 107
        }
      ]
    },
    {
      "cell_type": "code",
      "metadata": {
        "colab": {
          "base_uri": "https://localhost:8080/",
          "height": 487
        },
        "id": "yYw23JwjGMTJ",
        "outputId": "8a86f4b5-4f5e-4615-9320-bf0cf90740fa"
      },
      "source": [
        "plt.figure(figsize = (15,8))\n",
        "sns.barplot(x=accuracy, y=models)\n",
        "plt.xlabel('Accuracy',fontdict={'fontsize':16})\n",
        "plt.ylabel('Models',fontdict={'fontsize':16})\n",
        "plt.title('Evaluation of models',fontdict={'fontsize':18})"
      ],
      "execution_count": 101,
      "outputs": [
        {
          "output_type": "execute_result",
          "data": {
            "text/plain": [
              "Text(0.5, 1.0, 'Evaluation of models')"
            ]
          },
          "metadata": {
            "tags": []
          },
          "execution_count": 101
        },
        {
          "output_type": "display_data",
          "data": {
            "image/png": "[encoded data removed]",
            "text/plain": [
              "<Figure size 1080x576 with 1 Axes>"
            ]
          },
          "metadata": {
            "tags": [],
            "needs_background": "light"
          }
        }
      ]
    },
    {
      "cell_type": "markdown",
      "metadata": {
        "id": "Np1bijj0MTUp"
      },
      "source": [
        "### From the Above barplot it seems that Random Forest and Bagging are doing well on the data"
      ]
    },
    {
      "cell_type": "code",
      "metadata": {
        "id": "BDme_pRVqTWG"
      },
      "source": [
        ""
      ],
      "execution_count": null,
      "outputs": []
    }
  ]
}